{
 "cells": [
  {
   "cell_type": "markdown",
   "metadata": {},
   "source": [
    "# Biot's equations: Convergence Test"
   ]
  },
  {
   "cell_type": "markdown",
   "metadata": {},
   "source": [
    "* Author: Jhabriel Varela\n",
    "* E-mail: jhabriel.varela@uib.no\n",
    "* Date: 03.04.2019\n",
    "* Institution: PMG - UiB - Norway"
   ]
  },
  {
   "cell_type": "markdown",
   "metadata": {},
   "source": [
    "## Description of the problem"
   ]
  },
  {
   "cell_type": "markdown",
   "metadata": {},
   "source": [
    "In this noteboook, we perform a numerical convergence test (in space) of the Biot's equations. Let $\\Omega$ be a regular domain with boundary $\\partial \\Omega$. The Biot equations formulation read:\n",
    "$$\n",
    "\\begin{align}\n",
    "\\nabla \\cdot \\frac{1}{2}D(\\nabla \\mathbf{u} + \\nabla \\mathbf{u}^T) - \\alpha \\nabla p &= F, \\\\\n",
    "\\frac{\\partial}{\\partial t}(\\beta p + \\alpha \\nabla \\cdot \\mathbf{u}) - \\nabla \\cdot K \\nabla p &= f.\n",
    "\\end{align}\n",
    "$$\n",
    "with boundary conditions on $\\partial \\Omega_d$ and $\\partial \\Omega_n$:\n",
    "$$\\begin{align}\n",
    "    p = p_b, \\qquad & \\qquad - K \\nabla p \\cdot \\mathbf{n} = v_b, \\\\\n",
    "    \\mathbf{u} = \\mathbf{u}_b,  \\qquad & \\qquad \\frac{1}{2}D(\\nabla \\mathbf{u} + \\nabla \\mathbf{u}^T) \\cdot \\mathbf{n} = t_b.\n",
    "\\end{align}$$\n",
    "\n",
    "In the above, the unknowns are the displacements $\\mathbf{u}$ and the pressure $p$. The parameters are the scalar and vector source/sink terms $F$ and $f$, the permeability matrix $K$, the stiffness matrix $D$ (which depends on the two Lamé parameters $\\lambda$ and $\\mu$), the Biot coefficient $\\alpha$, the storativiy coefficient $\\beta$ and the density $\\rho$. $p_b$ is the pressure at the boundary (Dirichlet condition), $v_p$ is the flux at the boundary (Neumann condition), $\\mathbf{u}_b$ is the displacement at the boundary (Dirichlet condition) and $t_b$ is the traction at the boundary (Neumann condition).\n",
    "\n",
    "To show the convergence of the MPFA/MPSA method, we employ a known \"manufactured\" solution of the type:\n",
    "\n",
    "$$ \\mathbf{u}(x,y) =  \\begin{pmatrix} x(1-x) + \\sin(2\\pi y) \\\\ \\sin(2\\pi x) \\sin(2 \\pi y) \\end{pmatrix}, \\\\\n",
    "p(x,y) =  x(1-x) + \\sin(2\\pi y).$$\n",
    "\n",
    "These solutions (conveniently) satisfy zero Dirichlet boundary conditions for both, the mechanic and flow problems and hold for the first time step. Hence, the problem is driven by internal source terms.\n",
    "\n",
    "Computing the left hand side of the momentum and mass balance equations with $\\alpha = \\mu = \\lambda = K = 1$ and $\\beta = 0$, we get the following right hand sides:\n",
    "\n",
    "$$ F(x,y) = \\begin{pmatrix} \n",
    "6\\sin(2\\pi y) - x\\sin(2\\pi y) - \\sin(2\\pi x2)(x - 1) - 8 \\pi^2 \\cos(2 \\pi x)\\cos(2 \\pi y) - 4 x \\pi^2 \\sin(2 \\pi y)(x - 1) \\\\\n",
    "4 \\pi \\cos(2 \\pi y)(x - 1) + 16 \\pi^2 \\sin(2 \\pi x) \\sin(2 \\pi y) + 4x \\pi \\cos(2 \\pi y) - 2x\\pi\\cos(2\\pi y)(x - 1)\n",
    "\\end{pmatrix}, \\\\\n",
    "f(x,y) = \\tau(2\\sin(2\\pi y) - 4x\\pi^2\\sin(2\\pi y)(x - 1)) - x\\sin(2 \\pi y) - \\sin(2 \\pi y)(x - 1) + 2\\pi\\cos(2\\pi y)\\sin(2\\pi x),$$\n",
    "\n",
    "where $\\tau$ is the time step, which in this case was set to $1$. We solve the set of equations for different values of step size on an unit-square using a cartesian structured grid.\n",
    "\n",
    "We are interested in analyzing the rate of convergence of the primary variables, $\\mathbf{u}$ and $p$. For that purpose, we define the following errors using $L^2$-type norms as in [[1](#ref)]:\n",
    "\n",
    "$$\n",
    "\\epsilon_p = \\frac{||\\tilde{p} - p||_{L^2}}{|| p ||_{L^2}}, \\qquad\n",
    "\\epsilon_{\\mathbf{u}} = \\frac{||\\tilde{\\mathbf{u}} - \\mathbf{u} ||_{L^2}}{||\\mathbf{u}||_{L^2} }, \\qquad\n",
    "\\epsilon_{p,\\mathbf{u}} = \\epsilon_p + \\tau \\epsilon_{\\mathbf{u}},\n",
    "$$\n",
    "\n",
    "where $\\tilde{p}$ and $\\tilde{\\mathbf{u}}$ are the exact solutions for the problem. The norm $\\epsilon_{p,\\mathbf{u}}$ is the primary error, a measure of the total error of the coupled problem."
   ]
  },
  {
   "cell_type": "markdown",
   "metadata": {},
   "source": [
    "## Importing modules"
   ]
  },
  {
   "cell_type": "code",
   "execution_count": 1,
   "metadata": {},
   "outputs": [],
   "source": [
    "import numpy as np\n",
    "import scipy.optimize as opt\n",
    "import matplotlib.pyplot as plt\n",
    "from biot_convergence import convergence_in_space\n",
    "np.set_printoptions(precision=4, suppress = True)"
   ]
  },
  {
   "cell_type": "markdown",
   "metadata": {},
   "source": [
    "## Functions"
   ]
  },
  {
   "cell_type": "code",
   "execution_count": 2,
   "metadata": {},
   "outputs": [],
   "source": [
    "# Defining a straight line (for fitting purposes)\n",
    "def straight_line(x,a,b):\n",
    "    return a + b*x\n",
    "\n",
    "# Getting the coordinates of the fitted line\n",
    "def get_fitted_line_coor(step_size,popt):\n",
    "    x_fit = np.array(([np.min(np.log(step_size)),np.max(np.log(step_size))]))\n",
    "    y_fit = straight_line(x_fit,popt[0][0],popt[0][1])\n",
    "    return x_fit, y_fit\n",
    "\n",
    "# Getting r_squared (to check linearity of the convergence rate)\n",
    "def get_r_squared(epsilon,step_size,popt):\n",
    "    res = np.log(epsilon) - straight_line(np.log(step_size),popt[0][0],popt[0][1])\n",
    "    ss_res = np.sum(res**2)\n",
    "    ss_tot = np.sum((np.log(epsilon)-np.mean(np.log(epsilon)))**2)\n",
    "    r_squared = 1 - (ss_res / ss_tot)\n",
    "    return r_squared"
   ]
  },
  {
   "cell_type": "markdown",
   "metadata": {},
   "source": [
    "## Convergence analysis"
   ]
  },
  {
   "cell_type": "markdown",
   "metadata": {},
   "source": [
    "The convergence analysis is perfomed for the three errors introduce above. Generally, for a sufficiently small $h$ we can write\n",
    "\n",
    "$$\n",
    "    \\epsilon \\leq C h^p + \\mathcal{O}(h^{p+1}),\n",
    "$$\n",
    "\n",
    "where $C$ is a constant independent of $h$ and $\\tau$. If we take the logarithm to both sides of the equation and use the worst case scenario (the equatility) we have:\n",
    "\n",
    "$$\n",
    "    \\log(\\epsilon) \\approx \\log(C) + p \\log(h). \n",
    "$$\n",
    "\n",
    "By fitting a line and determining the slope of a log-log plot of the error as a function of the step size, we can determine the order of convergence of the numerical approximation."
   ]
  },
  {
   "cell_type": "markdown",
   "metadata": {},
   "source": [
    "### Computing the errors for different mesh sizes"
   ]
  },
  {
   "cell_type": "code",
   "execution_count": 3,
   "metadata": {},
   "outputs": [
    {
     "name": "stdout",
     "output_type": "stream",
     "text": [
      "Solving with mesh grid [8,8]\n",
      "Iter: 2 \t Error: 8.23578381468461e-15 \n",
      "Solving with mesh grid [16,16]\n",
      "Iter: 2 \t Error: 1.8285972680898285e-14 \n",
      "Solving with mesh grid [32,32]\n",
      "Iter: 2 \t Error: 3.824241916190777e-14 \n",
      "Solving with mesh grid [64,64]\n",
      "Iter: 2 \t Error: 9.110945155720319e-14 \n",
      "Solving with mesh grid [128,128]\n",
      "Iter: 2 \t Error: 1.9218918316215614e-13 \n",
      "Solving with mesh grid [256,256]\n",
      "Iter: 2 \t Error: 3.233739442684174e-13 \n"
     ]
    }
   ],
   "source": [
    "# Number of cells and step sizes\n",
    "number_of_cells = np.array([8,16,32,64,128,256])\n",
    "h  = 1/number_of_cells \n",
    "\n",
    "# Initializing errors\n",
    "epsilon_p = np.zeros(len(h))\n",
    "epsilon_u = np.zeros(len(h))\n",
    "epsilon_pu = np.zeros(len(h))\n",
    "\n",
    "# Loop through number_of_cells\n",
    "for i in range(len(number_of_cells)):\n",
    "    epsilon_p[i],epsilon_u[i],epsilon_pu[i] = convergence_in_space(number_of_cells[i])"
   ]
  },
  {
   "cell_type": "markdown",
   "metadata": {},
   "source": [
    "### Plotting convergence rate"
   ]
  },
  {
   "cell_type": "code",
   "execution_count": 4,
   "metadata": {},
   "outputs": [
    {
     "data": {
      "image/png": "[encoded data removed]",
      "text/plain": [
       "<Figure size 720x576 with 3 Axes>"
      ]
     },
     "metadata": {},
     "output_type": "display_data"
    }
   ],
   "source": [
    "# Obtaining line parameters\n",
    "popt_p   = opt.curve_fit(straight_line,np.log(h),np.log(epsilon_p))\n",
    "popt_u   = opt.curve_fit(straight_line,np.log(h),np.log(epsilon_u))\n",
    "popt_pu  = opt.curve_fit(straight_line,np.log(h),np.log(epsilon_pu))\n",
    "\n",
    "# Getting coordinates of fitted lines\n",
    "x_fit_p,y_fit_p = get_fitted_line_coor(h,popt_p) \n",
    "x_fit_u,y_fit_u = get_fitted_line_coor(h,popt_u) \n",
    "x_fit_pu,y_fit_pu = get_fitted_line_coor(h,popt_pu)\n",
    "\n",
    "# Determining R^2\n",
    "r_squared_p = get_r_squared(epsilon_p,h,popt_p)\n",
    "r_squared_u = get_r_squared(epsilon_u,h,popt_u)\n",
    "r_squared_pu = get_r_squared(epsilon_pu,h,popt_pu)\n",
    "\n",
    "# Creating the figure object and its subplots\n",
    "fig = plt.figure(figsize=(10,8))\n",
    "ax1 = plt.subplot(3,1,1)\n",
    "ax2 = plt.subplot(3,1,2)\n",
    "ax3 = plt.subplot(3,1,3)\n",
    "\n",
    "# Plotting numerical data and fitted line\n",
    "ax1.loglog(h,epsilon_p,'or',linewidth=2,label = 'Numerical data')\n",
    "ax1.loglog(np.exp(x_fit_p),np.exp(y_fit_p),'-k',linewidth=2,label='Fitted line')\n",
    "\n",
    "ax2.loglog(h,epsilon_u,'or',linewidth=2,label = 'Numerical data')\n",
    "ax2.loglog(np.exp(x_fit_u),np.exp(y_fit_u),'-k',linewidth=2,label='Fitted line')\n",
    "\n",
    "ax3.loglog(h,epsilon_pu,'or',linewidth=2,label = 'Numerical data')\n",
    "ax3.loglog(np.exp(x_fit_pu),np.exp(y_fit_pu),'-k',linewidth=2,label='Fitted line')\n",
    "\n",
    "# Adding legend, and information\n",
    "ax1.set_xlabel(r'$h$', fontsize=15)\n",
    "ax1.set_ylabel(r'$\\epsilon_p$',fontsize=15)\n",
    "ax1.text(0.2,0.8,r'$R^2$= {:.4}'.format(r_squared_p),size=15,transform=ax1.transAxes)\n",
    "ax1.text(0.2,0.6,r'$p$={:.4}'.format(popt_p[0][1]),size=15,transform=ax1.transAxes)\n",
    "ax1.grid(True)\n",
    "\n",
    "ax2.set_xlabel(r'$h$', fontsize=15)\n",
    "ax2.set_ylabel(r'$\\epsilon_\\mathbf{u}$',fontsize=15)\n",
    "ax2.text(0.2,0.8,r'$R^2$= {:.4}'.format(r_squared_u),size=15,transform=ax2.transAxes)\n",
    "ax2.text(0.2,0.6,r'$p$={:.4}'.format(popt_u[0][1]),size=15,transform=ax2.transAxes)\n",
    "ax2.grid(True)\n",
    "\n",
    "ax3.set_xlabel(r'$h$', fontsize=15)\n",
    "ax3.set_ylabel(r'$\\epsilon_{p,\\mathbf{u}}$',fontsize=15)\n",
    "ax3.text(0.2,0.8,r'$R^2$= {:.4}'.format(r_squared_pu),size=15,transform=ax3.transAxes)\n",
    "ax3.text(0.2,0.6,r'$p$={:.4}'.format(popt_pu[0][1]),size=15,transform=ax3.transAxes)\n",
    "ax3.grid(True)\n",
    "\n",
    "plt.show()"
   ]
  },
  {
   "cell_type": "markdown",
   "metadata": {},
   "source": [
    "## References\n",
    "<a id='ref'></a>"
   ]
  },
  {
   "cell_type": "markdown",
   "metadata": {},
   "source": [
    "[1] *Nordbotten, J. M. (2016). Stable cell-centered finite volume discretization for Biot equations. SIAM Journal on Numerical Analysis, 54(2), 942-968.\n",
    "ISO 690*"
   ]
  }
 ],
 "metadata": {
  "kernelspec": {
   "display_name": "Python 3",
   "language": "python",
   "name": "python3"
  },
  "language_info": {
   "codemirror_mode": {
    "name": "ipython",
    "version": 3
   },
   "file_extension": ".py",
   "mimetype": "text/x-python",
   "name": "python",
   "nbconvert_exporter": "python",
   "pygments_lexer": "ipython3",
   "version": "3.6.8"
  }
 },
 "nbformat": 4,
 "nbformat_minor": 2
}
