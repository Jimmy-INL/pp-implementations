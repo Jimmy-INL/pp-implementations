{
 "cells": [
  {
   "cell_type": "markdown",
   "metadata": {},
   "source": [
    "# Biot's equations: Convergence Test"
   ]
  },
  {
   "cell_type": "markdown",
   "metadata": {},
   "source": [
    "## Description of the problem"
   ]
  },
  {
   "cell_type": "markdown",
   "metadata": {},
   "source": [
    "In this noteboook, we perform a numerical convergence test (in space) of the Biot's equations. Let $\\Omega$ be a regular domain with boundary $\\partial \\Omega$. The Biot equations formulation read:\n",
    "$$\n",
    "\\begin{align}\n",
    "\\nabla \\cdot \\frac{1}{2}D(\\nabla \\mathbf{u} + \\nabla \\mathbf{u}^T) - \\alpha \\nabla p &= F, \\\\\n",
    "\\frac{\\partial}{\\partial t}(\\beta p + \\alpha \\nabla \\cdot \\mathbf{u}) - \\nabla \\cdot K \\nabla p &= f.\n",
    "\\end{align}\n",
    "$$\n",
    "with boundary conditions on $\\partial \\Omega_d$ and $\\partial \\Omega_n$:\n",
    "$$\\begin{align}\n",
    "    p = p_b, \\qquad & \\qquad - K \\nabla p \\cdot \\mathbf{n} = v_b, \\\\\n",
    "    \\mathbf{u} = \\mathbf{u}_b,  \\qquad & \\qquad \\frac{1}{2}D(\\nabla \\mathbf{u} + \\nabla \\mathbf{u}^T) \\cdot \\mathbf{n} = t_b.\n",
    "\\end{align}$$\n",
    "\n",
    "In the above, the unknowns are the displacements $\\mathbf{u}$ and the pressure $p$. The parameters are the scalar and vector source/sink terms $F$ and $f$, the permeability matrix $K$, the stiffness matrix $D$ (which depends on the two Lamé parameters $\\lambda$ and $\\mu$), the Biot coefficient $\\alpha$, the storativiy coefficient $\\beta$ and the density $\\rho$. $p_b$ is the pressure at the boundary (Dirichlet condition), $v_p$ is the flux at the boundary (Neumann condition), $\\mathbf{u}_b$ is the displacement at the boundary (Dirichlet condition) and $t_b$ is the traction at the boundary (Neumann condition).\n",
    "\n",
    "To show the convergence of the MPFA/MPSA method, we employ a known \"manufactured\" solution of the type:\n",
    "\n",
    "$$ \\mathbf{u}(x,y) =  \\begin{pmatrix} x(1-x) + \\sin(2\\pi y) \\\\ \\sin(2\\pi x) \\sin(2 \\pi y) \\end{pmatrix}, \\\\\n",
    "p(x,y) =  x(1-x) + \\sin(2\\pi y).$$\n",
    "\n",
    "These solutions (conveniently) satisfy zero Dirichlet boundary conditions for both, the mechanic and flow problems and hold for the first time step. Hence, the problem is driven by internal source terms.\n",
    "\n",
    "Computing the left hand side of the momentum and mass balance equations with $\\alpha = \\mu = \\lambda = K = 1$ and $\\beta = 0$, we get the following right hand sides:\n",
    "\n",
    "$$ F(x,y) = \\begin{pmatrix} \n",
    "6\\sin(2\\pi y) - x\\sin(2\\pi y) - \\sin(2\\pi x2)(x - 1) - 8 \\pi^2 \\cos(2 \\pi x)\\cos(2 \\pi y) - 4 x \\pi^2 \\sin(2 \\pi y)(x - 1) \\\\\n",
    "4 \\pi \\cos(2 \\pi y)(x - 1) + 16 \\pi^2 \\sin(2 \\pi x) \\sin(2 \\pi y) + 4x \\pi \\cos(2 \\pi y) - 2x\\pi\\cos(2\\pi y)(x - 1)\n",
    "\\end{pmatrix}, \\\\\n",
    "f(x,y) = \\tau(2\\sin(2\\pi y) - 4x\\pi^2\\sin(2\\pi y)(x - 1)) - x\\sin(2 \\pi y) - \\sin(2 \\pi y)(x - 1) + 2\\pi\\cos(2\\pi y)\\sin(2\\pi x),$$\n",
    "\n",
    "where $\\tau$ is the time step, which in this case was set to $1$.\n",
    "\n",
    "We are interested in analyzing the rate of convergence of the primary variables, $\\mathbf{u}$ and $p$. For that purpose, we define the following errors using $L^2$-type norms as in [1]([1]):\n",
    "\n",
    "$$\n",
    "\\epsilon_p = \\frac{||\\tilde{p} - p||_{L^2}}{|| p ||_{L^2}}, \\qquad\n",
    "\\epsilon_u = \\frac{||\\tilde{\\mathbf{u}} - \\mathbf{u} ||_{L^2}}{||\\mathbf{u}||_{L^2} }, \\qquad\n",
    "\\epsilon_{p,\\mathbf{u}} = \\epsilon_p + \\tau \\epsilon_u,\n",
    "$$\n",
    "\n",
    "where $\\tilde{p}$ and $\\tilde{\\mathbf{u}}$ are the exact solutions for the problem. The norm $\\epsilon_{p,\\mathbf{u}}$ is the primary error, a measure of the total error of the coupled problem."
   ]
  },
  {
   "cell_type": "markdown",
   "metadata": {},
   "source": [
    "## Importing modules"
   ]
  },
  {
   "cell_type": "code",
   "execution_count": 1,
   "metadata": {},
   "outputs": [],
   "source": [
    "import numpy as np\n",
    "import scipy.optimize as opt\n",
    "import matplotlib.pyplot as plt\n",
    "from biot_convergence import convergence_in_space\n",
    "np.set_printoptions(precision=4, suppress = True)"
   ]
  },
  {
   "cell_type": "markdown",
   "metadata": {},
   "source": [
    "## Convergence analysis"
   ]
  },
  {
   "cell_type": "markdown",
   "metadata": {},
   "source": [
    "### Computing the errors for different mesh sizes"
   ]
  },
  {
   "cell_type": "code",
   "execution_count": 6,
   "metadata": {},
   "outputs": [
    {
     "name": "stdout",
     "output_type": "stream",
     "text": [
      "Iter: 2 \t Error: 0.00000000 [m]\n",
      "Iter: 2 \t Error: 0.00000000 [m]\n",
      "Iter: 2 \t Error: 0.00000000 [m]\n",
      "Iter: 2 \t Error: 0.00000000 [m]\n"
     ]
    }
   ],
   "source": [
    "number_of_cells = np.array([8,16,32,64]) # number of cells for different refinement levels\n",
    "h  = 1/number_of_cells # spatial step size\n",
    "\n",
    "# Initializing errors\n",
    "epsilon_p = np.zeros(len(h))\n",
    "epsilon_u = np.zeros(len(h))\n",
    "epsilon_pu = np.zeros(len(h))\n",
    "\n",
    "# Loop through number_of_cells\n",
    "for i in range(len(number_of_cells)):\n",
    "    epsilon_p[i],epsilon_u[i],epsilon_pu[i] = convergence_in_space(number_of_cells[i])"
   ]
  },
  {
   "cell_type": "markdown",
   "metadata": {},
   "source": [
    "### Plotting convergence rate"
   ]
  },
  {
   "cell_type": "code",
   "execution_count": null,
   "metadata": {},
   "outputs": [],
   "source": []
  },
  {
   "cell_type": "code",
   "execution_count": null,
   "metadata": {},
   "outputs": [],
   "source": []
  }
 ],
 "metadata": {
  "kernelspec": {
   "display_name": "Python 3",
   "language": "python",
   "name": "python3"
  },
  "language_info": {
   "codemirror_mode": {
    "name": "ipython",
    "version": 3
   },
   "file_extension": ".py",
   "mimetype": "text/x-python",
   "name": "python",
   "nbconvert_exporter": "python",
   "pygments_lexer": "ipython3",
   "version": "3.6.8"
  }
 },
 "nbformat": 4,
 "nbformat_minor": 2
}
