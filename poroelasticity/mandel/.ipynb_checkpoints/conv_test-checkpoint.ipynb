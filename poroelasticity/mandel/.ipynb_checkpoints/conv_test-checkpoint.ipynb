{
 "cells": [
  {
   "cell_type": "markdown",
   "metadata": {},
   "source": [
    "### Source terms and analytical solutions"
   ]
  },
  {
   "cell_type": "code",
   "execution_count": 330,
   "metadata": {},
   "outputs": [],
   "source": [
    "def source_flow(g,tau):\n",
    "    \n",
    "    x1 = g.cell_centers[0]\n",
    "    x2 = g.cell_centers[1]\n",
    "    \n",
    "    f_flow = tau*(2*np.sin(2*np.pi*x2) - 4*x1*np.pi**2*np.sin(2*np.pi*x2)*(x1 - 1)) - \\\n",
    "             x1*np.sin(2*np.pi*x2) - \\\n",
    "             np.sin(2*np.pi*x2)*(x1 - 1) + \\\n",
    "             2*np.pi*np.cos(2*np.pi*x2)*np.sin(2*np.pi*x1) \n",
    "    \n",
    "    return f_flow\n",
    "\n",
    "def source_mechanics(g):\n",
    "    \n",
    "    x1 = g.cell_centers[0]\n",
    "    x2 = g.cell_centers[1]\n",
    "    \n",
    "    f_mech = np.zeros(g.num_cells * g.dim)\n",
    "    \n",
    "    f_mech[::2] = 6*np.sin(2*np.pi*x2) - \\\n",
    "                  x1*np.sin(2*np.pi*x2) - \\\n",
    "                  np.sin(2*np.pi*x2)*(x1 - 1) - \\\n",
    "                  8*np.pi**2*np.cos(2*np.pi*x1)*np.cos(2*np.pi*x2) - \\\n",
    "                  4*x1*np.pi**2*np.sin(2*np.pi*x2)*(x1 - 1)\n",
    "    f_mech[1::2] = 4*np.pi*np.cos(2*np.pi*x2)*(x1 - 1) + \\\n",
    "                   16*np.pi**2*np.sin(2*np.pi*x1)*np.sin(2*np.pi*x2) + \\\n",
    "                   4*x1*np.pi*np.cos(2*np.pi*x2) - \\\n",
    "                   2*x1*np.pi*np.cos(2*np.pi*x2)*(x1 - 1)\n",
    "    \n",
    "    return f_mech\n",
    "\n",
    "def analytical(g):\n",
    "    sol = dict()\n",
    "    x1 = g.cell_centers[0]\n",
    "    x2 = g.cell_centers[1]\n",
    "    sol['u'] = np.zeros(g.num_cells*g.dim)\n",
    "    sol['u'][::2] = x1*(1-x1) * np.sin(2*np.pi*x2)\n",
    "    sol['u'][1::2] = np.sin(2*np.pi*x1) * np.sin(2*np.pi*x2)\n",
    "    \n",
    "    sol['p'] = sol['u'][::2]\n",
    "    return sol"
   ]
  },
  {
   "cell_type": "markdown",
   "metadata": {},
   "source": [
    "### Getting mechanics boundary conditions"
   ]
  },
  {
   "cell_type": "code",
   "execution_count": 331,
   "metadata": {},
   "outputs": [],
   "source": [
    "def get_bc_mechanics(g,b_faces,\n",
    "                     x_min,x_max,west,east,\n",
    "                     y_min,y_max,south,north):\n",
    "        \n",
    "    # Setting the tags at each boundary side for the mechanics problem\n",
    "    labels_mech = np.array([None]*b_faces.size)\n",
    "    labels_mech[west]   = 'dir' \n",
    "    labels_mech[east]   = 'dir'  \n",
    "    labels_mech[south]  = 'dir'  \n",
    "    labels_mech[north]  = 'dir' \n",
    "    \n",
    "    # Constructing the bc object for the mechanics problem\n",
    "    bc_mech = pp.BoundaryConditionVectorial(g, b_faces, labels_mech)\n",
    "\n",
    "    # Constructing the boundary values array for the mechanics problem\n",
    "    bc_val_mech = np.zeros(g.num_faces * g.dim)\n",
    "    \n",
    "    return bc_mech,bc_val_mech   "
   ]
  },
  {
   "cell_type": "markdown",
   "metadata": {},
   "source": [
    "### Getting flow boundary conditions"
   ]
  },
  {
   "cell_type": "code",
   "execution_count": 332,
   "metadata": {},
   "outputs": [],
   "source": [
    "def get_bc_flow(g,b_faces,\n",
    "                x_min,x_max,west,east,\n",
    "                y_min,y_max,south,north):\n",
    "    \n",
    "    # Setting the tags at each boundary side for the mechanics problem\n",
    "    labels_flow = np.array([None]*b_faces.size)\n",
    "    labels_flow[west]   = 'dir'     \n",
    "    labels_flow[east]   = 'dir'     \n",
    "    labels_flow[south]  = 'dir'    \n",
    "    labels_flow[north]  = 'dir'   \n",
    "\n",
    "    # Constructing the bc object for the flow problem\n",
    "    bc_flow = pp.BoundaryCondition(g, b_faces, labels_flow)\n",
    "\n",
    "    # Constructing the boundary values array for the flow problem\n",
    "    bc_val_flow = np.zeros(g.num_faces)\n",
    "    \n",
    "    return bc_flow,bc_val_flow"
   ]
  },
  {
   "cell_type": "markdown",
   "metadata": {},
   "source": [
    "### Setting up the grid"
   ]
  },
  {
   "cell_type": "code",
   "execution_count": 333,
   "metadata": {},
   "outputs": [],
   "source": [
    "Nx = 10; Ny = 10\n",
    "Lx = 1; Ly = 1\n",
    "g = pp.CartGrid([Nx,Ny], [Lx,Ly])\n",
    "g.compute_geometry()\n",
    "V = g.cell_volumes"
   ]
  },
  {
   "cell_type": "markdown",
   "metadata": {},
   "source": [
    "### Physical parameters"
   ]
  },
  {
   "cell_type": "code",
   "execution_count": 334,
   "metadata": {},
   "outputs": [],
   "source": [
    "# Skeleton parameters\n",
    "mu_s = 1                                    # [Pa] Shear modulus\n",
    "lambda_s = 1                                # [Pa] Lame parameter\n",
    "K_s = (2/3) * mu_s + lambda_s               # [Pa] Bulk modulus\n",
    "E_s = mu_s * ((9*K_s)/(3*K_s+mu_s))         # [Pa] Young's modulus\n",
    "nu_s  = (3*K_s-2*mu_s)/(2*(3*K_s+mu_s))     # [-] Poisson's coefficient\n",
    "k_s = 1                                     # [m^2] Permeabiliy\n",
    "\n",
    "# Fluid parameters\n",
    "mu_f = 1                                    # [Pa s] Dynamic viscosity\n",
    "\n",
    "# Porous medium parameters\n",
    "alpha_biot = 1.                             # [m^2] Intrinsic permeability\n",
    "S_m = 0                                     # [1/Pa] Specific Storage"
   ]
  },
  {
   "cell_type": "markdown",
   "metadata": {},
   "source": [
    "### Creating second and fourth order tensors"
   ]
  },
  {
   "cell_type": "code",
   "execution_count": 335,
   "metadata": {},
   "outputs": [],
   "source": [
    "# Permeability tensor\n",
    "perm = pp.SecondOrderTensor(g.dim, \n",
    "                            k_s * np.ones(g.num_cells)) \n",
    "\n",
    "# Stiffness matrix\n",
    "constit = pp.FourthOrderTensor(g.dim, \n",
    "                               mu_s * np.ones(g.num_cells), \n",
    "                               lambda_s * np.ones(g.num_cells))"
   ]
  },
  {
   "cell_type": "markdown",
   "metadata": {},
   "source": [
    "### Time parameters"
   ]
  },
  {
   "cell_type": "code",
   "execution_count": 336,
   "metadata": {},
   "outputs": [],
   "source": [
    "t0 = 0                                # [s] Initial time\n",
    "tf = 1                                # [s] Final simulation time\n",
    "tLevels = 1                           # [-] Time levels\n",
    "times = np.linspace(t0,tf,tLevels+1)  # [s] Vector of time evaluations\n",
    "dt = np.diff(times)                   # [s] Vector of time steps"
   ]
  },
  {
   "cell_type": "markdown",
   "metadata": {},
   "source": [
    "### Boundary conditions pre-processing"
   ]
  },
  {
   "cell_type": "code",
   "execution_count": 337,
   "metadata": {},
   "outputs": [],
   "source": [
    "b_faces = g.tags['domain_boundary_faces'].nonzero()[0]\n",
    "\n",
    "# Extracting indices of boundary faces w.r.t g\n",
    "x_min = b_faces[g.face_centers[0,b_faces] < 0.0001]\n",
    "x_max = b_faces[g.face_centers[0,b_faces] > 0.9999*Lx]\n",
    "y_min = b_faces[g.face_centers[1,b_faces] < 0.0001]\n",
    "y_max = b_faces[g.face_centers[1,b_faces] > 0.9999*Ly]\n",
    "\n",
    "# Extracting indices of boundary faces w.r.t b_faces\n",
    "west   = np.in1d(b_faces,x_min).nonzero()\n",
    "east   = np.in1d(b_faces,x_max).nonzero()\n",
    "south  = np.in1d(b_faces,y_min).nonzero()\n",
    "north  = np.in1d(b_faces,y_max).nonzero()\n",
    "\n",
    "# Mechanics boundary conditions\n",
    "bc_mech,bc_val_mech    = get_bc_mechanics(g,b_faces,\n",
    "                                           x_min,x_max,west,east,\n",
    "                                           y_min,y_max,south,north)   \n",
    "# FLOW BOUNDARY CONDITIONS\n",
    "bc_flow,bc_val_flow    = get_bc_flow(g,b_faces,\n",
    "                                    x_min,x_max,west,east,\n",
    "                                    y_min,y_max,south,north)"
   ]
  },
  {
   "cell_type": "markdown",
   "metadata": {},
   "source": [
    "### Initialiazing solution and solver dicitionaries"
   ]
  },
  {
   "cell_type": "code",
   "execution_count": 338,
   "metadata": {},
   "outputs": [],
   "source": [
    "# Solution dictionary\n",
    "sol = dict()\n",
    "sol['time'] = np.zeros(tLevels+1,dtype=float)\n",
    "sol['displacement'] = np.zeros((tLevels+1,g.num_cells*g.dim),dtype=float)\n",
    "sol['displacement_faces'] = np.zeros((tLevels+1,g.num_faces*g.dim*2),dtype=float)\n",
    "sol['pressure'] = np.zeros((tLevels+1,g.num_cells),dtype=float)\n",
    "sol['traction'] = np.zeros((tLevels+1,g.num_faces*g.dim),dtype=float)\n",
    "sol['flux'] = np.zeros((tLevels+1,g.num_faces),dtype=float)\n",
    "sol['iter'] = np.array([],dtype=int)\n",
    "sol['time_step'] = np.array([],dtype=float)\n",
    "sol['residual'] = np.array([],dtype=float)\n",
    "\n",
    "# Solver dictionary\n",
    "newton_param = dict()\n",
    "newton_param['tol'] = 1E-8       # maximum tolerance\n",
    "newton_param['max_iter'] = 20    # maximum number of iterations\n",
    "newton_param['res_norm'] = 1000  # initializing residual\n",
    "newton_param['iter'] = 1         # iteration"
   ]
  },
  {
   "cell_type": "markdown",
   "metadata": {},
   "source": [
    "### Discrete operators and discrete equations"
   ]
  },
  {
   "cell_type": "markdown",
   "metadata": {},
   "source": [
    "### Flow operators"
   ]
  },
  {
   "cell_type": "code",
   "execution_count": 339,
   "metadata": {},
   "outputs": [],
   "source": [
    "F       = lambda x: biot_F * x        # Flux operator\n",
    "boundF  = lambda x: biot_boundF * x   # Bound Flux operator\n",
    "compat  = lambda x: biot_compat * x   # Compatibility operator (Stabilization term)\n",
    "divF    = lambda x: biot_divF * x     # Scalar divergence operator"
   ]
  },
  {
   "cell_type": "markdown",
   "metadata": {},
   "source": [
    "### Mechanics operators"
   ]
  },
  {
   "cell_type": "code",
   "execution_count": 340,
   "metadata": {},
   "outputs": [],
   "source": [
    "S              = lambda x: biot_S * x                  # Stress operator\n",
    "boundS         = lambda x: biot_boundS * x             # Bound Stress operator\n",
    "divU           = lambda x: biot_divU * x               # Divergence of displacement field   \n",
    "divS           = lambda x: biot_divS * x               # Vector divergence operator\n",
    "gradP          = lambda x: biot_divS * biot_gradP * x  # Pressure gradient operator\n",
    "boundDivU      = lambda x: biot_boundDivU * x          # Bound Divergence of displacement operator\n",
    "boundUCell     = lambda x: biot_boundUCell * x         # Contribution of displacement at cells -> Face displacement\n",
    "boundUFace     = lambda x: biot_boundUFace * x         # Contribution of bc_mech at the boundaries -> Face displacement\n",
    "boundUPressure = lambda x: biot_boundUPressure * x     # Contribution of pressure at cells -> Face displacement"
   ]
  },
  {
   "cell_type": "markdown",
   "metadata": {},
   "source": [
    "### Discrete equations"
   ]
  },
  {
   "cell_type": "code",
   "execution_count": 341,
   "metadata": {},
   "outputs": [],
   "source": [
    "# Source terms\n",
    "f_mech = source_mechanics(g)\n",
    "f_flow = source_flow(g,dt[0])\n",
    "\n",
    "# Generalized Hooke's law\n",
    "T = lambda u: S(u) + boundS(bc_val_mech) \n",
    "\n",
    "# Momentum conservation equation (I)\n",
    "u_eq1 = lambda u: divS(T(u)) \n",
    "\n",
    "# Momentum conservation equation (II)\n",
    "u_eq2 = lambda p: -gradP(p) + f_mech * V[0]\n",
    "\n",
    "# Darcy's law\n",
    "Q = lambda p: (1./mu_f) * (F(p) + boundF(bc_val_flow))\n",
    "\n",
    "# Mass conservation equation (I)\n",
    "p_eq1 = lambda u,u_n: alpha_biot * divU(u-u_n)\n",
    "\n",
    "# Mass conservation equation (II)\n",
    "p_eq2 = lambda p,p_n,dt:  (p - p_n) * S_m * V  + \\\n",
    "                          divF(Q(p)) * dt + \\\n",
    "                          alpha_biot * compat(p - p_n) * V[0]- \\\n",
    "                          (f_flow/dt) * V[0]"
   ]
  },
  {
   "cell_type": "markdown",
   "metadata": {},
   "source": [
    "## Creating AD variables"
   ]
  },
  {
   "cell_type": "code",
   "execution_count": 343,
   "metadata": {},
   "outputs": [],
   "source": [
    "# Create displacement AD-variable\n",
    "u_ad = Ad_array(np.zeros(g.num_cells*2), sps.diags(np.ones(g.num_cells * g.dim)))\n",
    "\n",
    "# Create pressure AD-variable\n",
    "p_ad = Ad_array(np.zeros(g.num_cells), sps.diags(np.ones(g.num_cells)))"
   ]
  },
  {
   "cell_type": "markdown",
   "metadata": {},
   "source": [
    "## Performing discretization"
   ]
  },
  {
   "cell_type": "code",
   "execution_count": 344,
   "metadata": {},
   "outputs": [
    {
     "name": "stdout",
     "output_type": "stream",
     "text": [
      "number of ncasym eliminated:  0\n",
      "max igrad:  20.00000000000003\n"
     ]
    }
   ],
   "source": [
    "d = dict() # initialize dictionary to store data\n",
    "\n",
    "# Mechanics data object\n",
    "specified_parameters_mech = {\"fourth_order_tensor\": constit, \n",
    "                             \"bc\": bc_mech, \n",
    "                             \"biot_alpha\" : 1.,\n",
    "                             \"bc_values\": bc_val_mech}\n",
    "pp.initialize_default_data(g,d,\"mechanics\", specified_parameters_mech)\n",
    "                             \n",
    "# Flow data object\n",
    "specified_parameters_flow = {\"second_order_tensor\": perm, \n",
    "                             \"bc\": bc_flow, \n",
    "                             \"biot_alpha\": 1.,\n",
    "                             \"bc_values\": bc_val_flow}\n",
    "pp.initialize_default_data(g,d,\"flow\", specified_parameters_flow)\n",
    "\n",
    "\n",
    "# Biot discretization\n",
    "solver_biot = pp.Biot(\"mechanics\",\"flow\")\n",
    "solver_biot.discretize(g,d)\n",
    "\n",
    "# Mechanics discretization matrices\n",
    "biot_S = d['discretization_matrices']['mechanics']['stress']\n",
    "biot_boundS = d['discretization_matrices']['mechanics']['bound_stress']\n",
    "biot_divU = d['discretization_matrices']['mechanics']['div_d']\n",
    "biot_gradP = d['discretization_matrices']['mechanics']['grad_p']\n",
    "biot_boundDivU = d['discretization_matrices']['mechanics']['bound_div_d']\n",
    "biot_boundUCell = d['discretization_matrices']['mechanics']['bound_displacement_cell']\n",
    "biot_boundUFace = d['discretization_matrices']['mechanics']['bound_displacement_face']\n",
    "biot_boundUPressure = d['discretization_matrices']['mechanics']['bound_displacement_pressure']\n",
    "biot_divS = pp.fvutils.vector_divergence(g)\n",
    "\n",
    "# Flow discretization matrices\n",
    "biot_F = d['discretization_matrices']['flow']['flux']\n",
    "biot_boundF = d['discretization_matrices']['flow']['bound_flux']\n",
    "biot_compat = d['discretization_matrices']['flow']['biot_stabilization']\n",
    "biot_divF = pp.fvutils.scalar_divergence(g)\n",
    "\n",
    "# Saving initial condition\n",
    "sol['pressure'][0] = p_ad.val\n",
    "sol['displacement'][0] = u_ad.val\n",
    "sol['displacement_faces'][0] = ( boundUCell(sol['displacement'][0]) + \n",
    "                                  boundUFace(bc_val_mech) + \n",
    "                                  boundUPressure(sol['pressure'][0]))\n",
    "sol['time'][0] = times[0]\n",
    "sol['traction'][0] = T(u_ad.val)\n",
    "sol['flux'][0] = Q(p_ad.val)    \n",
    "                       "
   ]
  },
  {
   "cell_type": "markdown",
   "metadata": {},
   "source": [
    "## The time loop"
   ]
  },
  {
   "cell_type": "code",
   "execution_count": 345,
   "metadata": {},
   "outputs": [
    {
     "name": "stdout",
     "output_type": "stream",
     "text": [
      "Iter: 2 \t Error: 0.00000000 [m]\n"
     ]
    }
   ],
   "source": [
    "tt = 0 # time counter\n",
    "\n",
    "while times[tt] < times[-1]:      \n",
    "    \n",
    "    tt += 1 # increasing time counter\n",
    "      \n",
    "    # Displacement and pressure at the previous time step\n",
    "    u_n = u_ad.val.copy()          \n",
    "    p_n = p_ad.val.copy()   \n",
    "    \n",
    "    # Updating residual and iteration at each time step\n",
    "    newton_param.update({'res_norm':1000, 'iter':1}) \n",
    "    \n",
    "    # Newton loop\n",
    "    while newton_param['res_norm'] > newton_param['tol'] and newton_param['iter'] <= newton_param['max_iter']:\n",
    "        \n",
    "        # Calling equations\n",
    "        eq1 = u_eq1(u_ad)\n",
    "        eq2 = u_eq2(p_ad)\n",
    "        eq3 = p_eq1(u_ad,u_n)\n",
    "        eq4 = p_eq2(p_ad,p_n,dt[tt-1])\n",
    "        \n",
    "        # Assembling Jacobian of the coupled system\n",
    "        J_mech = np.hstack((eq1.jac,eq2.jac)) # Jacobian blocks (mechanics)\n",
    "        J_flow = np.hstack((eq3.jac,eq4.jac)) # Jacobian blocks (flow)\n",
    "        J = sps.bmat(np.vstack((J_mech,J_flow)),format='csc') # Jacobian (coupled)\n",
    "\n",
    "        # Determining residual of the coupled system\n",
    "        R_mech = eq1.val + eq2.val            # Residual (mechanics)\n",
    "        R_flow = eq3.val + eq4.val            # Residual (flow)\n",
    "        R = np.hstack((R_mech,R_flow))        # Residual (coupled)\n",
    "\n",
    "        y = sps.linalg.spsolve(J,-R)                  # \n",
    "        u_ad.val = u_ad.val + y[:g.dim*g.num_cells]   # Newton update\n",
    "        p_ad.val = p_ad.val + y[g.dim*g.num_cells:]   #\n",
    "        \n",
    "        newton_param['res_norm'] = np.linalg.norm(R)  # Updating residual\n",
    "        \n",
    "        if newton_param['res_norm'] <= newton_param['tol'] and newton_param['iter'] <= newton_param['max_iter']:\n",
    "            print('Iter: {} \\t Error: {:.8f} [m]'.format(newton_param['iter'],newton_param['res_norm']))\n",
    "        elif newton_param['iter'] > newton_param['max_iter']:\n",
    "            print('Error: Newton method did not converge!')\n",
    "        else:\n",
    "            newton_param['iter'] += 1\n",
    "    \n",
    "    # Saving variables\n",
    "    sol['iter'] = np.concatenate((sol['iter'],np.array([newton_param['iter']])))\n",
    "    sol['residual'] = np.concatenate((sol['residual'],np.array([newton_param['res_norm']])))\n",
    "    sol['time_step'] = np.concatenate((sol['time_step'],dt))    \n",
    "    sol['pressure'][tt] = p_ad.val\n",
    "    sol['displacement'][tt] = u_ad.val\n",
    "    sol['displacement_faces'][tt] = (boundUCell(sol['displacement'][tt]) + \n",
    "                                      boundUFace(bc_val_mech) + \n",
    "                                      boundUPressure(sol['pressure'][tt]))\n",
    "    sol['time'][tt] = times[tt]\n",
    "    sol['traction'][tt] = T(u_ad.val)\n",
    "    sol['flux'][tt] = Q(p_ad.val)"
   ]
  }
 ],
 "metadata": {
  "kernelspec": {
   "display_name": "Python 3",
   "language": "python",
   "name": "python3"
  },
  "language_info": {
   "codemirror_mode": {
    "name": "ipython",
    "version": 3
   },
   "file_extension": ".py",
   "mimetype": "text/x-python",
   "name": "python",
   "nbconvert_exporter": "python",
   "pygments_lexer": "ipython3",
   "version": "3.6.8"
  }
 },
 "nbformat": 4,
 "nbformat_minor": 2
}
