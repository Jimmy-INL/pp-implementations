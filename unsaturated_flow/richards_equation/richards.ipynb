{
 "cells": [
  {
   "cell_type": "markdown",
   "metadata": {},
   "source": [
    "# Richards' equation"
   ]
  },
  {
   "cell_type": "markdown",
   "metadata": {},
   "source": [
    "* Author: Jhabriel Varela\n",
    "* E-mail: jhabriel.varela@uib.no\n",
    "* Date: 04.04.2019\n",
    "* Institution: PMG - UiB - Norway"
   ]
  },
  {
   "cell_type": "markdown",
   "metadata": {},
   "source": [
    "## Description of the problem"
   ]
  },
  {
   "cell_type": "markdown",
   "metadata": {},
   "source": [
    "In this tutorial, we show how to implement the incompressible Richards' equation in a pseudo one-dimensional domain using MPFA and automatic differentiation. \n",
    "\n",
    "### Governing equations in the continuous domain\n",
    "\n",
    "The governing equations can be split into two PDEs, the mass conservation and Darcy's law. \n",
    "\n",
    "* The mass conservation equation can be stated as\n",
    "\n",
    "$$\n",
    "  \\frac{\\partial \\theta}{\\partial t} + \\nabla \\cdot \\mathbf{q} = f,\n",
    "$$\n",
    "\n",
    "where $\\theta$ is the water content, $\\underline{q}$ is the water Darcy's velocitiy and $f$ is an external source term.\n",
    "\n",
    "* The Darcy's velocity is given by\n",
    "\n",
    "$$\n",
    "\\mathbf{q} = - \\frac{\\rho g}{\\mu} K k_r^w \\nabla h,\n",
    "$$\n",
    "\n",
    "where $\\rho$ is the water density, $g$ is the gravity acceleration, $\\mu$ is the water viscosity, $K$ is the permeability tensor, $k_r^w$ is the relative permeability and $h$ is the hydraulic head [[1](#ref)].  \n",
    "\n",
    "### Governing equations in the discrete domain\n",
    "\n",
    "In this example, we use CCFV-MPFA (Cell Centered Finite Volume - Multi-Point Flux Approximation) to discretize the set of PDE's [[2](#ref)]. Moreover, we make use of the discrete operators such as divergence, gradient and so on, to represent the mapping between vector spaces (centers and faces) [[3](#ref)]. After the discretization process, we obtain the following discrete equations.\n",
    "\n",
    "* Discrete mass conservation equation \n",
    "\n",
    "$$\n",
    "\\frac{[V]_{\\mathtt{c}}}{\\tau^{\\mathtt{n}}} \\left([\\theta]^{\\mathtt{n+1,m}}_{\\mathtt{c}} + [C]^{\\mathtt{n+1,m}}_{\\mathtt{c}}   \\left([h]_{\\mathtt{c}}^{\\mathtt{n+1,m+1}} - [h]_{\\mathtt{c}}^{\\mathtt{n+1,m}}\\right) - [\\theta]_{\\mathtt{c}}^{\\mathtt{n}}\\right) + \\mathbf{div}\\left( [Q]_{\\mathtt{f}} \\right)_{\\mathtt{c}} = [V]_{\\mathtt{c}} [f]_{\\mathtt{c}},\n",
    "$$   \n",
    "where $\\tau$ is the time step, $\\mathbf{C}$ is the specific moisture capacity, $\\mathbf{V}$ corresponds to the cell volumes and $\\mathbf{Q}$ is the (volumetric water) flux.\n",
    "\n",
    "* Discrete Darcy's law\n",
    "\n",
    "$$\n",
    "[Q]_\\mathtt{f} = \\frac{\\rho g}{\\mu} \\left[{\\bar{k}_r^w}\\right]^{\\mathtt{n+1,m}}_{\\mathtt{f}} \\left( \\mathbf{F}\\left([{h}]^{\\mathtt{n+1,m+1}}_{\\mathtt{c}}\\right)_{\\mathtt{f}} + \\mathbf{boundF}\\left([{b}]_{\\mathtt{f}}\\right)_{\\mathtt{f}} \\right),\n",
    "$$\n",
    "\n",
    "where $[{b}]$ is the vector of boundary conditions (containing both, Dirichlet and Neumann bc's). Note that the quantities in square brackets represent vector quantities in a computational sense. \n",
    "\n",
    "The subinidices $\\mathtt{c}$ and $\\mathtt{f}$ denote cell-centered and face-centered evaluations, respectively. And the superindices $\\mathtt{n}$ and $\\mathtt{m}$ denote time and iteration levels.\n",
    "\n",
    "The relative permeabilities must be evaluated at the faces centroids. To do this, we perform an arithmetic average using the information available at the cell centers. This is indicated by using $\\bar{k}_r^w$.\n",
    "\n",
    "In this example, we make use of three discrete operators: the $\\mathbf{div}$ operator, which is the scalar divergence operator (that maps from faces to centers), the $\\mathbf{F}$ operator, which is the flux operator (that maps from centers to faces) and the $\\mathbf{boundF}$ operator (that maps from faces to faces) which deals with the boundary contributions. \n",
    "\n",
    "### Water retention curves\n",
    "\n",
    "The water content $\\theta$, relative permeability $k_r^w$ and specific moisture capacity $C$ are often represented as (non-linear) functions of the water pressure head $\\psi$. Using the van Genuchten water retention curves [[4](#ref)], these functions have the following forms\n",
    "\n",
    "$$\n",
    "\\theta = \\begin{cases} \n",
    "\\displaystyle{\\frac{\\theta_s - \\theta_r}{[1+(\\alpha_v |\\psi|)^{n_v}]^{m_v}}} & \\psi < 0 \\\\\n",
    "\\theta_s & \\psi \\geq 0\n",
    "\\end{cases},\n",
    "$$\n",
    "\n",
    "$$\n",
    "k_r^w = \\begin{cases}\n",
    "\\displaystyle{\\frac{\\bigl\\{ 1 - (\\alpha_v |\\psi|)^{n_v-1} \\left[1 + (\\alpha_v |\\psi|^{n_v}) \\right]^{-m_v}\\bigr\\}^2}{\\left[1 + (\\alpha_v |\\psi|)^{n_v} \\right]^{m_v/2}}} & \\psi < 0 \\\\\n",
    "1 & \\psi \\geq 0 \n",
    "\\end{cases},\n",
    "$$\n",
    "\n",
    "$$\n",
    "C = \\begin{cases}\n",
    "\\displaystyle{- \\frac{m_v n_v \\psi (\\theta_s - \\theta_r) (\\alpha_v |\\psi|)^{n_v}}{|\\psi_w|^2 \\left[ (\\alpha_v |\\psi|)^{n_v} +1 \\right]^{m_v+1}}} & \\psi < 0 \\\\\n",
    "0 & \\psi \\geq 0\n",
    "\\end{cases}\n",
    "$$\n",
    "\n",
    "\n",
    "In these functions, $\\theta_s$ and $\\theta_r$ denote the water content at saturated conditions and the residual water content. Moreover, $\\alpha_v$, $n_v$ and $m_v$ are the van Genuchten fitting parameteres of the water retention curve.\n",
    "\n",
    "### The problem to be solved\n",
    "\n",
    "In this example, we simulate a water infiltration process (from top to bottom) in an originally dry soil. For this purpose, we use a three-dimensional domain of size $100\\times 100\\times 100 \\, [cm^3]$, with their corresponding number of cells in each direction: $[5,5,30]$. \n",
    "\n",
    "The boundary conditions are imposed at the bottom and top of the domain as constant pressure heads: $\\psi(0,0,0,t) = -1000 \\, [cm]$ and $\\psi(0,0,100,t) = -75 \\, [cm]$. The rest of the boundaries are set as no flux. The initial condition is set to $\\psi(x,y,z,0) = -1000 \\, [cm]$ and we assume $f= 0$."
   ]
  },
  {
   "cell_type": "markdown",
   "metadata": {},
   "source": [
    "## Importing modules and external functions"
   ]
  },
  {
   "cell_type": "code",
   "execution_count": 1,
   "metadata": {},
   "outputs": [],
   "source": [
    "import numpy as np\n",
    "import scipy.sparse as sps\n",
    "import porepy as pp\n",
    "import matplotlib.pyplot as plt\n",
    "\n",
    "from porepy.ad.forward_mode import Ad_array\n",
    "from functions_re import arithmetic_mpfa_hyd\n",
    "from functions_re import time_stepping\n",
    "from functions_re import newton_solver\n",
    "from functions_re import save_solution\n",
    "\n",
    "np.set_printoptions(precision=4, suppress = True)"
   ]
  },
  {
   "cell_type": "markdown",
   "metadata": {},
   "source": [
    "## Setting up the grid"
   ]
  },
  {
   "cell_type": "code",
   "execution_count": 2,
   "metadata": {},
   "outputs": [],
   "source": [
    "Nx = 5;  Ny = 5;  Nz = 30\n",
    "Lx = 10; Ly = 10; Lz = 100\n",
    "g = pp.CartGrid([Nx,Ny,Nz], [Lx,Ly,Lz])\n",
    "g.compute_geometry()\n",
    "V = g.cell_volumes"
   ]
  },
  {
   "cell_type": "markdown",
   "metadata": {},
   "source": [
    "## Physical properties\n",
    "The set of physical properties was taken from [[1](#ref)]"
   ]
  },
  {
   "cell_type": "markdown",
   "metadata": {},
   "source": [
    "### Fluid properties"
   ]
  },
  {
   "cell_type": "code",
   "execution_count": 3,
   "metadata": {},
   "outputs": [],
   "source": [
    "fluid = dict()\n",
    "fluid['density'] = 1.0       # [g/cm^3]\n",
    "fluid['viscosity'] = 0.01    # [g/cm.s]\n",
    "fluid['gravity'] = 980.6650  # [cm/s^2]"
   ]
  },
  {
   "cell_type": "markdown",
   "metadata": {},
   "source": [
    "### Porous medium properties"
   ]
  },
  {
   "cell_type": "code",
   "execution_count": 4,
   "metadata": {},
   "outputs": [],
   "source": [
    "medium = dict()\n",
    "medium['sat_hyd_cond'] = 0.00922 # Saturated hydraulic conductivity [cm/s]"
   ]
  },
  {
   "cell_type": "markdown",
   "metadata": {},
   "source": [
    "### Rock properties"
   ]
  },
  {
   "cell_type": "code",
   "execution_count": 5,
   "metadata": {},
   "outputs": [],
   "source": [
    "rock = dict()\n",
    "rock['permeability'] = (medium['sat_hyd_cond']*fluid['viscosity']) / \\\n",
    "                       (fluid['density']*fluid['gravity']) # [cm^2]\n",
    "# Creating the permeability second order tensor                       \n",
    "perm = pp.SecondOrderTensor(g.dim, rock['permeability'] * np.ones(g.num_cells))"
   ]
  },
  {
   "cell_type": "markdown",
   "metadata": {},
   "source": [
    "### van Genuchten parameters"
   ]
  },
  {
   "cell_type": "code",
   "execution_count": 6,
   "metadata": {},
   "outputs": [],
   "source": [
    "van_gen = dict()\n",
    "van_gen['alpha'] = 0.0335            # [1/cm] equation parameter\n",
    "van_gen['n'] = 2.0                   # [-] equation parameter\n",
    "van_gen['m'] = 1-(1/van_gen['n'])    # [-] equation parameter\n",
    "van_gen['theta_s'] = 0.368           # [-] water content at saturated conditions\n",
    "van_gen['theta_r'] = 0.102           # [-] residual water content"
   ]
  },
  {
   "cell_type": "markdown",
   "metadata": {},
   "source": [
    "## Boundary and initial conditions"
   ]
  },
  {
   "cell_type": "code",
   "execution_count": 7,
   "metadata": {},
   "outputs": [],
   "source": [
    "b_faces = g.tags['domain_boundary_faces'].nonzero()[0]\n",
    "\n",
    "# Extracting grid information\n",
    "z_cntr = g.cell_centers[2,:]\n",
    "z_fcs = g.face_centers[2,:]\n",
    "\n",
    "# Extracting indices of boundary faces w.r.t g\n",
    "x_min = b_faces[g.face_centers[0,b_faces] < 0.0001]\n",
    "x_max = b_faces[g.face_centers[0,b_faces] > 0.9999*Lx]\n",
    "y_min = b_faces[g.face_centers[1,b_faces] < 0.0001]\n",
    "y_max = b_faces[g.face_centers[1,b_faces] > 0.9999*Ly]\n",
    "z_min = b_faces[g.face_centers[2,b_faces] < 0.0001]\n",
    "z_max = b_faces[g.face_centers[2,b_faces] > 0.9999*Lz]\n",
    "\n",
    "# Extracting indices of boundary faces w.r.t b_faces\n",
    "east   = np.in1d(b_faces,x_min).nonzero()\n",
    "west   = np.in1d(b_faces,x_max).nonzero()\n",
    "south  = np.in1d(b_faces,y_min).nonzero()\n",
    "north  = np.in1d(b_faces,y_max).nonzero()\n",
    "bottom = np.in1d(b_faces,z_min).nonzero()\n",
    "top    = np.in1d(b_faces,z_max).nonzero()\n",
    "\n",
    "# Setting the tags at each boundary side\n",
    "labels = np.array([None]*b_faces.size)\n",
    "labels[east]   = 'neu'\n",
    "labels[west]   = 'neu'\n",
    "labels[south]  = 'neu'\n",
    "labels[north]  = 'neu'\n",
    "labels[bottom] = 'dir'\n",
    "labels[top]    = 'dir'\n",
    "\n",
    "# Constructing the bc object\n",
    "bc = pp.BoundaryCondition(g, b_faces, labels)\n",
    "\n",
    "# Imposed pressures and fluxes at the boundaries\n",
    "flux_west = 0       # [cm^3/s] \n",
    "fluw_east = 0       # [cm^3/s]\n",
    "flux_south = 0      # [cm^3/s]\n",
    "flux_north = 0      # [cm^3/s]\n",
    "psi_top = -75       # [cm]\n",
    "psi_bottom = -1000  # [cm]\n",
    "\n",
    "h_top = psi_top + z_fcs[z_max]       # [cm] top hyd head\n",
    "h_bottom = psi_bottom + z_fcs[z_min] # [cm] bottom hyd head\n",
    "\n",
    "# Constructing the boundary values array\n",
    "bc_val = np.zeros(g.num_faces)\n",
    "bc_val[x_min] = np.zeros(x_min.size)\n",
    "bc_val[x_max] = np.zeros(x_max.size)\n",
    "bc_val[y_min] = np.zeros(y_min.size)\n",
    "bc_val[y_max] = np.zeros(y_max.size)\n",
    "bc_val[z_min] = h_bottom * np.ones(z_min.size)\n",
    "bc_val[z_max] = h_top * np.ones(z_max.size)\n",
    "\n",
    "# Initial condition\n",
    "h_init = psi_bottom + z_cntr"
   ]
  },
  {
   "cell_type": "markdown",
   "metadata": {},
   "source": [
    "## Creating the data object"
   ]
  },
  {
   "cell_type": "code",
   "execution_count": 8,
   "metadata": {},
   "outputs": [],
   "source": [
    "specified_parameters = {\"second_order_tensor\": perm, \n",
    "                        \"bc\": bc, \n",
    "                        \"bc_values\": bc_val}\n",
    "\n",
    "data = pp.initialize_default_data(g,{},\"flow\", specified_parameters)"
   ]
  },
  {
   "cell_type": "markdown",
   "metadata": {},
   "source": [
    "## Performing the discretization using MPFA"
   ]
  },
  {
   "cell_type": "code",
   "execution_count": 9,
   "metadata": {},
   "outputs": [],
   "source": [
    "# Instatiating the pp.Mpfa class\n",
    "solver = pp.Mpfa(\"flow\")\n",
    "\n",
    "# MPFA discretization\n",
    "mpfa_F, mpfa_boundF, _, _ = solver.mpfa(g, perm, bc)\n",
    "mpfa_div = pp.fvutils.scalar_divergence(g)"
   ]
  },
  {
   "cell_type": "markdown",
   "metadata": {},
   "source": [
    "## Creating MPFA discrete operators"
   ]
  },
  {
   "cell_type": "code",
   "execution_count": 10,
   "metadata": {},
   "outputs": [],
   "source": [
    "F      = lambda x: mpfa_F * x\n",
    "boundF = lambda x: mpfa_boundF * x\n",
    "div    = lambda x: mpfa_div * x"
   ]
  },
  {
   "cell_type": "markdown",
   "metadata": {},
   "source": [
    "## Water retention curves"
   ]
  },
  {
   "cell_type": "markdown",
   "metadata": {},
   "source": [
    "*Please note that $\\psi$ must be passed in centimeters*"
   ]
  },
  {
   "cell_type": "code",
   "execution_count": 11,
   "metadata": {},
   "outputs": [],
   "source": [
    "# Boolean lamdba-function which determines sat or unsat condition\n",
    "is_unsat = lambda psi: psi < 0\n",
    "\n",
    "# Water content\n",
    "theta = lambda psi: is_unsat(psi) * ( (van_gen['theta_s'] - van_gen['theta_r']) / \n",
    "                    (1. + (van_gen['alpha'] * np.abs(psi))**van_gen['n'])**van_gen['m'] + \n",
    "                    van_gen['theta_r']) + (1-is_unsat(psi))*van_gen['theta_s']\n",
    "\n",
    "# Specific moisture capacity\n",
    "C = lambda psi: is_unsat(psi) * ( (van_gen['m'] * van_gen['n'] * psi * \n",
    "                (van_gen['theta_r']-van_gen['theta_s']) * \n",
    "                van_gen['alpha']**van_gen['n'] * np.abs(psi)**(van_gen['n']-2.) ) /\n",
    "                (van_gen['alpha']**van_gen['n'] * np.abs(psi)**van_gen['n'] + 1.) ** \n",
    "                (van_gen['m']+1.)) + (1-is_unsat(psi)) * 0\n",
    "\n",
    "# Relative permeability\n",
    "krw = lambda psi: is_unsat(psi)*((1. - (van_gen['alpha'] * np.abs(psi)) **\n",
    "                  (van_gen['n']-1) * (1. + (van_gen['alpha'] * np.abs(psi)) ** \n",
    "                  van_gen['n'])**(-van_gen['m']))**2. /\n",
    "                  (1. + (van_gen['alpha'] * np.abs(psi)) ** van_gen['n']) ** \n",
    "                  (van_gen['m']/2.)) + (1-is_unsat(psi)) * 1."
   ]
  },
  {
   "cell_type": "markdown",
   "metadata": {},
   "source": [
    "## Discrete equations"
   ]
  },
  {
   "cell_type": "markdown",
   "metadata": {},
   "source": [
    "When we perform arithmetic operations involving a np.array and an AD Porepy \n",
    "object, the array must be always located at the right of the AD Porepy object.\n",
    "This behaviour has its root on the way NumPy perform multiplication\n",
    "between objects of different size, the so called broadcasting property. \n",
    "Alternatively, we could create SciPy diagonal (sparse) matrices. \n",
    "However, what we can win from keeping the original structure of the equations,\n",
    "is completely lost due to the lack of readibility."
   ]
  },
  {
   "cell_type": "code",
   "execution_count": 12,
   "metadata": {},
   "outputs": [],
   "source": [
    "# Arithmetic mean of relative permeability\n",
    "krw_ar = lambda h_m: arithmetic_mpfa_hyd(krw,g,bc,bc_val,h_m)\n",
    "\n",
    "# Multiphase Darcy Flux\n",
    "q = lambda h,h_m: (fluid['density']*fluid['gravity']/fluid['viscosity']) * \\\n",
    "                   (F(h) + boundF(bc_val)) * krw_ar(h_m)\n",
    "\n",
    "# Mass Conservation\n",
    "h_eq = lambda h,h_n,h_m,dt: div(q(h,h_m)) +  ((h-h_m)*C(h_m-z_cntr) + \n",
    "                                              theta(h_m-z_cntr) - \n",
    "                                              theta(h_n-z_cntr)) * (V/dt)              "
   ]
  },
  {
   "cell_type": "markdown",
   "metadata": {},
   "source": [
    "## Creating the AD-object"
   ]
  },
  {
   "cell_type": "code",
   "execution_count": 13,
   "metadata": {},
   "outputs": [],
   "source": [
    "h_ad = Ad_array(h_init.copy(), sps.diags(np.ones(g.num_cells)))"
   ]
  },
  {
   "cell_type": "markdown",
   "metadata": {},
   "source": [
    "## Time, solver, printing and solution dictionaries"
   ]
  },
  {
   "cell_type": "code",
   "execution_count": 14,
   "metadata": {},
   "outputs": [],
   "source": [
    "# Time parameters\n",
    "time_param = dict()                       # initializing time parameters dictionary\n",
    "time_param['sim_time'] = 72 * 3600        # [s] final simulation time\n",
    "time_param['dt_init'] = 100               # [s] initial time step\n",
    "time_param['dt_min'] = 100                # [s] minimum time step\n",
    "time_param['dt_max'] = 10000              # [s] maximum time step\n",
    "time_param['lower_opt_iter_range'] = 3    # [iter] lower optimal iteration range\n",
    "time_param['upper_opt_iter_range'] = 7    # [iter] upper optimal iteration range\n",
    "time_param['lower_mult_factor'] = 1.3     # [-] lower multiplication factor\n",
    "time_param['upper_mult_factor'] = 0.7     # [-] upper multiplication factor\n",
    "time_param['dt'] = time_param['dt_init']  # [s] initializing time step\n",
    "time_param['dt_print'] = time_param['dt'] # [s] initializing printing time step\n",
    "time_param['time_cum'] = 0                # [s] cumulative time\n",
    "\n",
    "# Newton parameters\n",
    "newton_param = dict()\n",
    "newton_param['max_tol'] = 1               # [cm] maximum absolute tolerance (pressure head)\n",
    "newton_param['max_iter'] = 10             # [iter] maximum number of iterations\n",
    "newton_param['abs_tol'] = 100             # [cm] absolute tolerance\n",
    "newton_param['iter'] = 1                  # [iter] iteration\n",
    "\n",
    "# Printing parameters\n",
    "print_param = dict()\n",
    "print_param['levels'] = 10                # number of printing levels\n",
    "print_param['times'] = np.linspace(time_param['sim_time']/print_param['levels'], \\\n",
    "                       time_param['sim_time'],print_param['levels'])\n",
    "print_param['counter'] = 0                # initializing printing counter\n",
    "print_param['is_active'] = False          # Printing = True; Not Printing = False\n",
    "\n",
    "# Solution dictionary\n",
    "sol = dict()\n",
    "sol['time'] = np.zeros((print_param['levels']+1,1))\n",
    "sol['hydraulic_head'] = np.zeros((print_param['levels']+1,g.num_cells))\n",
    "sol['pressure_head'] = np.zeros((print_param['levels']+1,g.num_cells))\n",
    "sol['elevation_head'] = np.zeros((print_param['levels']+1,g.num_cells))\n",
    "sol['water_content'] = np.zeros((print_param['levels']+1,g.num_cells))\n",
    "sol['darcy_fluxes'] = np.zeros((print_param['levels']+1,g.num_faces))\n",
    "sol['iterations'] = np.array([],dtype=int)\n",
    "sol['time_step'] = np.array([],dtype=float)\n",
    "# Saving inital conditions\n",
    "save_solution(sol,newton_param,time_param,print_param,g,h_ad,h_ad,theta,q)"
   ]
  },
  {
   "cell_type": "markdown",
   "metadata": {},
   "source": [
    "## The time loop"
   ]
  },
  {
   "cell_type": "code",
   "execution_count": 15,
   "metadata": {},
   "outputs": [
    {
     "name": "stdout",
     "output_type": "stream",
     "text": [
      "Time: 100.00 [s] \t Iter: 7 \t Error: 0.564 [cm]\n",
      "Time: 200.00 [s] \t Iter: 5 \t Error: 0.602 [cm]\n",
      "Time: 300.00 [s] \t Iter: 4 \t Error: 0.841 [cm]\n",
      "Time: 400.00 [s] \t Iter: 5 \t Error: 0.070 [cm]\n",
      "Time: 500.00 [s] \t Iter: 5 \t Error: 0.114 [cm]\n",
      "Time: 600.00 [s] \t Iter: 5 \t Error: 0.130 [cm]\n",
      "Time: 700.00 [s] \t Iter: 4 \t Error: 0.863 [cm]\n",
      "Time: 800.00 [s] \t Iter: 4 \t Error: 0.549 [cm]\n",
      "Time: 900.00 [s] \t Iter: 4 \t Error: 0.317 [cm]\n",
      "Time: 1000.00 [s] \t Iter: 4 \t Error: 0.174 [cm]\n",
      "Time: 1100.00 [s] \t Iter: 3 \t Error: 0.899 [cm]\n",
      "Time: 1230.00 [s] \t Iter: 4 \t Error: 0.114 [cm]\n",
      "Time: 1360.00 [s] \t Iter: 3 \t Error: 0.907 [cm]\n",
      "Time: 1529.00 [s] \t Iter: 4 \t Error: 0.611 [cm]\n",
      "Time: 1698.00 [s] \t Iter: 3 \t Error: 0.996 [cm]\n",
      "Time: 1917.70 [s] \t Iter: 5 \t Error: 0.036 [cm]\n",
      "Time: 2137.40 [s] \t Iter: 3 \t Error: 0.687 [cm]\n",
      "Time: 2423.01 [s] \t Iter: 5 \t Error: 0.136 [cm]\n",
      "Time: 2708.62 [s] \t Iter: 4 \t Error: 0.839 [cm]\n",
      "Time: 2994.23 [s] \t Iter: 4 \t Error: 0.460 [cm]\n",
      "Time: 3279.84 [s] \t Iter: 4 \t Error: 0.522 [cm]\n",
      "Time: 3565.45 [s] \t Iter: 4 \t Error: 0.677 [cm]\n",
      "Time: 3851.06 [s] \t Iter: 4 \t Error: 0.697 [cm]\n",
      "Time: 4136.67 [s] \t Iter: 3 \t Error: 0.496 [cm]\n",
      "Time: 4507.96 [s] \t Iter: 3 \t Error: 0.661 [cm]\n",
      "Time: 4990.64 [s] \t Iter: 5 \t Error: 0.199 [cm]\n",
      "Time: 5473.32 [s] \t Iter: 4 \t Error: 0.817 [cm]\n",
      "Time: 5956.01 [s] \t Iter: 4 \t Error: 0.906 [cm]\n",
      "Time: 6438.69 [s] \t Iter: 5 \t Error: 0.295 [cm]\n",
      "Time: 6921.37 [s] \t Iter: 5 \t Error: 0.177 [cm]\n",
      "Time: 7404.05 [s] \t Iter: 3 \t Error: 0.717 [cm]\n",
      "Time: 8031.53 [s] \t Iter: 5 \t Error: 0.232 [cm]\n",
      "Time: 8659.02 [s] \t Iter: 4 \t Error: 0.802 [cm]\n",
      "Time: 9286.50 [s] \t Iter: 4 \t Error: 0.861 [cm]\n",
      "Time: 9913.99 [s] \t Iter: 5 \t Error: 0.342 [cm]\n",
      "Time: 10541.47 [s] \t Iter: 5 \t Error: 0.210 [cm]\n",
      "Time: 11168.96 [s] \t Iter: 4 \t Error: 0.833 [cm]\n",
      "Time: 11796.44 [s] \t Iter: 4 \t Error: 0.610 [cm]\n",
      "Time: 12423.93 [s] \t Iter: 4 \t Error: 0.427 [cm]\n",
      "Time: 13051.41 [s] \t Iter: 4 \t Error: 0.405 [cm]\n",
      "Time: 13678.90 [s] \t Iter: 4 \t Error: 0.574 [cm]\n",
      "Time: 14306.39 [s] \t Iter: 4 \t Error: 0.609 [cm]\n",
      "Time: 14933.87 [s] \t Iter: 3 \t Error: 0.928 [cm]\n",
      "Time: 15749.60 [s] \t Iter: 4 \t Error: 0.946 [cm]\n",
      "Time: 16565.33 [s] \t Iter: 4 \t Error: 0.676 [cm]\n",
      "Time: 17381.06 [s] \t Iter: 4 \t Error: 0.459 [cm]\n",
      "Time: 18196.79 [s] \t Iter: 4 \t Error: 0.737 [cm]\n",
      "Time: 19012.52 [s] \t Iter: 4 \t Error: 0.814 [cm]\n",
      "Time: 19828.25 [s] \t Iter: 4 \t Error: 0.726 [cm]\n",
      "Time: 20643.99 [s] \t Iter: 4 \t Error: 0.583 [cm]\n",
      "Time: 21459.72 [s] \t Iter: 4 \t Error: 0.441 [cm]\n",
      "Time: 22275.45 [s] \t Iter: 4 \t Error: 0.317 [cm]\n",
      "Time: 23091.18 [s] \t Iter: 4 \t Error: 0.460 [cm]\n",
      "Time: 23906.91 [s] \t Iter: 4 \t Error: 0.546 [cm]\n",
      "Time: 24722.64 [s] \t Iter: 4 \t Error: 0.525 [cm]\n",
      "Time: 25538.37 [s] \t Iter: 4 \t Error: 0.450 [cm]\n",
      "\t\t Saving solutions: \t\t\n",
      "Time: 25920.00 [s] \t Iter: 3 \t Error: 0.186 [cm]\n",
      "Time: 26354.10 [s] \t Iter: 4 \t Error: 0.363 [cm]\n",
      "Time: 27169.83 [s] \t Iter: 4 \t Error: 0.279 [cm]\n",
      "Time: 27985.56 [s] \t Iter: 4 \t Error: 0.233 [cm]\n",
      "Time: 28801.29 [s] \t Iter: 4 \t Error: 0.350 [cm]\n",
      "Time: 29617.02 [s] \t Iter: 4 \t Error: 0.396 [cm]\n",
      "Time: 30432.75 [s] \t Iter: 3 \t Error: 0.977 [cm]\n",
      "Time: 31493.20 [s] \t Iter: 4 \t Error: 0.726 [cm]\n",
      "Time: 32553.65 [s] \t Iter: 4 \t Error: 0.566 [cm]\n",
      "Time: 33614.10 [s] \t Iter: 4 \t Error: 0.415 [cm]\n",
      "Time: 34674.55 [s] \t Iter: 4 \t Error: 0.523 [cm]\n",
      "Time: 35735.00 [s] \t Iter: 4 \t Error: 0.642 [cm]\n",
      "Time: 36795.45 [s] \t Iter: 4 \t Error: 0.620 [cm]\n",
      "Time: 37855.90 [s] \t Iter: 4 \t Error: 0.532 [cm]\n",
      "Time: 38916.35 [s] \t Iter: 4 \t Error: 0.425 [cm]\n",
      "Time: 39976.80 [s] \t Iter: 4 \t Error: 0.320 [cm]\n",
      "Time: 41037.25 [s] \t Iter: 4 \t Error: 0.398 [cm]\n",
      "Time: 42097.70 [s] \t Iter: 4 \t Error: 0.497 [cm]\n",
      "Time: 43158.15 [s] \t Iter: 4 \t Error: 0.496 [cm]\n",
      "Time: 44218.60 [s] \t Iter: 4 \t Error: 0.440 [cm]\n",
      "Time: 45279.05 [s] \t Iter: 4 \t Error: 0.364 [cm]\n",
      "Time: 46339.50 [s] \t Iter: 4 \t Error: 0.284 [cm]\n",
      "Time: 47399.95 [s] \t Iter: 4 \t Error: 0.271 [cm]\n",
      "Time: 48460.40 [s] \t Iter: 4 \t Error: 0.383 [cm]\n",
      "Time: 49520.85 [s] \t Iter: 4 \t Error: 0.414 [cm]\n",
      "Time: 50581.30 [s] \t Iter: 4 \t Error: 0.389 [cm]\n",
      "Time: 51641.75 [s] \t Iter: 4 \t Error: 0.338 [cm]\n",
      "\t\t Saving solutions: \t\t\n",
      "Time: 51840.00 [s] \t Iter: 2 \t Error: 0.410 [cm]\n",
      "Time: 52702.20 [s] \t Iter: 4 \t Error: 0.277 [cm]\n",
      "Time: 53762.65 [s] \t Iter: 4 \t Error: 0.216 [cm]\n",
      "Time: 54823.10 [s] \t Iter: 4 \t Error: 0.260 [cm]\n",
      "Time: 55883.55 [s] \t Iter: 4 \t Error: 0.333 [cm]\n",
      "Time: 56944.00 [s] \t Iter: 4 \t Error: 0.347 [cm]\n",
      "Time: 58004.45 [s] \t Iter: 4 \t Error: 0.323 [cm]\n",
      "Time: 59064.90 [s] \t Iter: 4 \t Error: 0.281 [cm]\n",
      "Time: 60125.35 [s] \t Iter: 4 \t Error: 0.231 [cm]\n",
      "Time: 61185.80 [s] \t Iter: 4 \t Error: 0.182 [cm]\n",
      "Time: 62246.25 [s] \t Iter: 4 \t Error: 0.222 [cm]\n",
      "Time: 63306.70 [s] \t Iter: 4 \t Error: 0.283 [cm]\n",
      "Time: 64367.15 [s] \t Iter: 4 \t Error: 0.299 [cm]\n",
      "Time: 65427.60 [s] \t Iter: 3 \t Error: 0.906 [cm]\n",
      "Time: 66806.19 [s] \t Iter: 4 \t Error: 0.547 [cm]\n",
      "Time: 68184.77 [s] \t Iter: 4 \t Error: 0.435 [cm]\n",
      "Time: 69563.36 [s] \t Iter: 4 \t Error: 0.325 [cm]\n",
      "Time: 70941.94 [s] \t Iter: 4 \t Error: 0.503 [cm]\n",
      "Time: 72320.53 [s] \t Iter: 4 \t Error: 0.558 [cm]\n",
      "Time: 73699.11 [s] \t Iter: 4 \t Error: 0.523 [cm]\n",
      "Time: 75077.70 [s] \t Iter: 4 \t Error: 0.447 [cm]\n",
      "Time: 76456.28 [s] \t Iter: 4 \t Error: 0.356 [cm]\n",
      "\t\t Saving solutions: \t\t\n",
      "Time: 77760.00 [s] \t Iter: 4 \t Error: 0.260 [cm]\n",
      "Time: 77834.87 [s] \t Iter: 4 \t Error: 0.313 [cm]\n",
      "Time: 79213.45 [s] \t Iter: 4 \t Error: 0.452 [cm]\n",
      "Time: 80592.04 [s] \t Iter: 4 \t Error: 0.487 [cm]\n",
      "Time: 81970.62 [s] \t Iter: 4 \t Error: 0.455 [cm]\n",
      "Time: 83349.21 [s] \t Iter: 4 \t Error: 0.390 [cm]\n",
      "Time: 84727.79 [s] \t Iter: 4 \t Error: 0.312 [cm]\n",
      "Time: 86106.38 [s] \t Iter: 4 \t Error: 0.285 [cm]\n",
      "Time: 87484.96 [s] \t Iter: 4 \t Error: 0.405 [cm]\n",
      "Time: 88863.55 [s] \t Iter: 4 \t Error: 0.438 [cm]\n",
      "Time: 90242.13 [s] \t Iter: 4 \t Error: 0.412 [cm]\n",
      "Time: 91620.72 [s] \t Iter: 4 \t Error: 0.357 [cm]\n",
      "Time: 92999.30 [s] \t Iter: 4 \t Error: 0.290 [cm]\n",
      "Time: 94377.89 [s] \t Iter: 4 \t Error: 0.240 [cm]\n",
      "Time: 95756.47 [s] \t Iter: 4 \t Error: 0.358 [cm]\n",
      "Time: 97135.06 [s] \t Iter: 4 \t Error: 0.399 [cm]\n",
      "Time: 98513.64 [s] \t Iter: 4 \t Error: 0.384 [cm]\n",
      "Time: 99892.23 [s] \t Iter: 4 \t Error: 0.340 [cm]\n",
      "Time: 101270.81 [s] \t Iter: 4 \t Error: 0.281 [cm]\n",
      "Time: 102649.39 [s] \t Iter: 4 \t Error: 0.220 [cm]\n",
      "\t\t Saving solutions: \t\t\n",
      "Time: 103680.00 [s] \t Iter: 4 \t Error: 0.118 [cm]\n",
      "Time: 104027.98 [s] \t Iter: 4 \t Error: 0.305 [cm]\n",
      "Time: 105406.56 [s] \t Iter: 4 \t Error: 0.362 [cm]\n",
      "Time: 106785.15 [s] \t Iter: 4 \t Error: 0.363 [cm]\n",
      "Time: 108163.73 [s] \t Iter: 4 \t Error: 0.331 [cm]\n",
      "Time: 109542.32 [s] \t Iter: 4 \t Error: 0.281 [cm]\n",
      "Time: 110920.90 [s] \t Iter: 4 \t Error: 0.226 [cm]\n",
      "Time: 112299.49 [s] \t Iter: 4 \t Error: 0.242 [cm]\n",
      "Time: 113678.07 [s] \t Iter: 4 \t Error: 0.321 [cm]\n",
      "Time: 115056.66 [s] \t Iter: 4 \t Error: 0.342 [cm]\n",
      "Time: 116435.24 [s] \t Iter: 4 \t Error: 0.325 [cm]\n",
      "Time: 117813.83 [s] \t Iter: 4 \t Error: 0.286 [cm]\n",
      "Time: 119192.41 [s] \t Iter: 4 \t Error: 0.237 [cm]\n",
      "Time: 120571.00 [s] \t Iter: 4 \t Error: 0.187 [cm]\n",
      "Time: 121949.58 [s] \t Iter: 4 \t Error: 0.267 [cm]\n",
      "Time: 123328.17 [s] \t Iter: 4 \t Error: 0.315 [cm]\n",
      "Time: 124706.75 [s] \t Iter: 4 \t Error: 0.317 [cm]\n",
      "Time: 126085.34 [s] \t Iter: 4 \t Error: 0.292 [cm]\n",
      "Time: 127463.92 [s] \t Iter: 4 \t Error: 0.252 [cm]\n",
      "Time: 128842.51 [s] \t Iter: 4 \t Error: 0.206 [cm]\n",
      "\t\t Saving solutions: \t\t\n",
      "Time: 129600.00 [s] \t Iter: 3 \t Error: 0.469 [cm]\n",
      "Time: 130221.09 [s] \t Iter: 4 \t Error: 0.195 [cm]\n",
      "Time: 131599.68 [s] \t Iter: 4 \t Error: 0.272 [cm]\n",
      "Time: 132978.26 [s] \t Iter: 4 \t Error: 0.301 [cm]\n",
      "Time: 134356.85 [s] \t Iter: 4 \t Error: 0.294 [cm]\n",
      "Time: 135735.43 [s] \t Iter: 4 \t Error: 0.266 [cm]\n",
      "Time: 137114.02 [s] \t Iter: 4 \t Error: 0.227 [cm]\n",
      "Time: 138492.60 [s] \t Iter: 4 \t Error: 0.183 [cm]\n",
      "Time: 139871.19 [s] \t Iter: 4 \t Error: 0.207 [cm]\n",
      "Time: 141249.77 [s] \t Iter: 4 \t Error: 0.268 [cm]\n",
      "Time: 142628.36 [s] \t Iter: 4 \t Error: 0.287 [cm]\n",
      "Time: 144006.94 [s] \t Iter: 4 \t Error: 0.275 [cm]\n",
      "Time: 145385.53 [s] \t Iter: 4 \t Error: 0.246 [cm]\n",
      "Time: 146764.11 [s] \t Iter: 4 \t Error: 0.208 [cm]\n",
      "Time: 148142.70 [s] \t Iter: 4 \t Error: 0.167 [cm]\n",
      "Time: 149521.28 [s] \t Iter: 4 \t Error: 0.209 [cm]\n",
      "Time: 150899.87 [s] \t Iter: 4 \t Error: 0.260 [cm]\n",
      "Time: 152278.45 [s] \t Iter: 4 \t Error: 0.273 [cm]\n",
      "Time: 153657.04 [s] \t Iter: 4 \t Error: 0.260 [cm]\n",
      "Time: 155035.62 [s] \t Iter: 4 \t Error: 0.232 [cm]\n",
      "\t\t Saving solutions: \t\t\n",
      "Time: 155520.00 [s] \t Iter: 3 \t Error: 0.106 [cm]\n",
      "Time: 156414.21 [s] \t Iter: 4 \t Error: 0.196 [cm]\n",
      "Time: 157792.79 [s] \t Iter: 4 \t Error: 0.157 [cm]\n"
     ]
    },
    {
     "name": "stdout",
     "output_type": "stream",
     "text": [
      "Time: 159171.38 [s] \t Iter: 4 \t Error: 0.205 [cm]\n",
      "Time: 160549.96 [s] \t Iter: 4 \t Error: 0.251 [cm]\n",
      "Time: 161928.55 [s] \t Iter: 3 \t Error: 0.958 [cm]\n",
      "Time: 163720.71 [s] \t Iter: 4 \t Error: 0.544 [cm]\n",
      "Time: 165512.87 [s] \t Iter: 4 \t Error: 0.464 [cm]\n",
      "Time: 167305.03 [s] \t Iter: 4 \t Error: 0.367 [cm]\n",
      "Time: 169097.19 [s] \t Iter: 4 \t Error: 0.411 [cm]\n",
      "Time: 170889.35 [s] \t Iter: 4 \t Error: 0.520 [cm]\n",
      "Time: 172681.51 [s] \t Iter: 4 \t Error: 0.527 [cm]\n",
      "Time: 174473.67 [s] \t Iter: 4 \t Error: 0.473 [cm]\n",
      "Time: 176265.83 [s] \t Iter: 4 \t Error: 0.388 [cm]\n",
      "Time: 178057.99 [s] \t Iter: 4 \t Error: 0.300 [cm]\n",
      "Time: 179850.15 [s] \t Iter: 4 \t Error: 0.458 [cm]\n",
      "\t\t Saving solutions: \t\t\n",
      "Time: 181440.00 [s] \t Iter: 4 \t Error: 0.354 [cm]\n",
      "Time: 181642.31 [s] \t Iter: 4 \t Error: 0.507 [cm]\n",
      "Time: 183434.47 [s] \t Iter: 4 \t Error: 0.481 [cm]\n",
      "Time: 185226.63 [s] \t Iter: 4 \t Error: 0.413 [cm]\n",
      "Time: 187018.79 [s] \t Iter: 4 \t Error: 0.328 [cm]\n",
      "Time: 188810.95 [s] \t Iter: 4 \t Error: 0.420 [cm]\n",
      "Time: 190603.11 [s] \t Iter: 4 \t Error: 0.535 [cm]\n",
      "Time: 192395.27 [s] \t Iter: 3 \t Error: 0.713 [cm]\n",
      "Time: 194725.08 [s] \t Iter: 3 \t Error: 0.832 [cm]\n",
      "Time: 197753.83 [s] \t Iter: 4 \t Error: 0.863 [cm]\n",
      "Time: 200782.58 [s] \t Iter: 4 \t Error: 0.122 [cm]\n",
      "Time: 203811.33 [s] \t Iter: 4 \t Error: 0.281 [cm]\n",
      "Time: 206840.09 [s] \t Iter: 4 \t Error: 0.533 [cm]\n",
      "\t\t Saving solutions: \t\t\n",
      "Time: 207360.00 [s] \t Iter: 2 \t Error: 0.076 [cm]\n",
      "Time: 209868.84 [s] \t Iter: 4 \t Error: 0.630 [cm]\n",
      "Time: 212897.59 [s] \t Iter: 4 \t Error: 0.619 [cm]\n",
      "Time: 215926.34 [s] \t Iter: 4 \t Error: 0.558 [cm]\n",
      "Time: 218955.09 [s] \t Iter: 4 \t Error: 0.485 [cm]\n",
      "Time: 221983.84 [s] \t Iter: 3 \t Error: 0.977 [cm]\n",
      "Time: 225921.22 [s] \t Iter: 4 \t Error: 0.476 [cm]\n",
      "Time: 229858.59 [s] \t Iter: 4 \t Error: 0.416 [cm]\n",
      "\t\t Saving solutions: \t\t\n",
      "Time: 233280.00 [s] \t Iter: 2 \t Error: 0.900 [cm]\n",
      "Time: 233795.97 [s] \t Iter: 3 \t Error: 0.852 [cm]\n",
      "Time: 238914.56 [s] \t Iter: 4 \t Error: 0.352 [cm]\n",
      "Time: 244033.15 [s] \t Iter: 2 \t Error: 0.986 [cm]\n",
      "Time: 250687.32 [s] \t Iter: 1 \t Error: 0.825 [cm]\n",
      "\t\t Saving solutions: \t\t\n",
      "Time: 259200.00 [s] \t Iter: 2 \t Error: 0.309 [cm]\n",
      "---- End of simulation ----\n"
     ]
    }
   ],
   "source": [
    "while time_param['time_cum'] < time_param['sim_time']:\n",
    "        \n",
    "    if print_param['is_active'] == False:\n",
    "        \n",
    "        h_n = h_ad.val.copy()                                     # current time level (n)\n",
    "        time_param['time_cum'] += time_param['dt'] \n",
    "        newton_param.update({'abs_tol':100, 'iter':1})            # updating tolerance and iterations\n",
    "        \n",
    "        # Newton loop\n",
    "        while newton_param['abs_tol'] > newton_param['max_tol']   and \\\n",
    "              newton_param['iter']    < newton_param['max_iter']:      \n",
    "              \n",
    "            h_m = h_ad.val.copy()                               # current iteration level (m)\n",
    "            eq = h_eq(h_ad,h_n,h_m,time_param['dt'])            # calling discrete equation\n",
    "            newton_solver(eq,h_ad,h_m,newton_param,time_param,print_param)  # calling newton solver\n",
    "        \n",
    "        # Calling time stepping routine\n",
    "        time_stepping(time_param,newton_param,print_param)\n",
    "        \n",
    "        # Determining if next step we should print or not\n",
    "        if time_param['dt'] + time_param['time_cum'] >= print_param['times'][print_param['counter']]:\n",
    "            \n",
    "            time_param['dt_print'] = print_param['times'][print_param['counter']] - time_param['time_cum']\n",
    "            print_param['is_active'] = True\n",
    "        \n",
    "    elif print_param['is_active'] == True:\n",
    "        \n",
    "        h_ad_print = Ad_array(h_ad.val.copy(), sps.diags(np.ones(g.num_cells)))\n",
    "        h_n_print = h_ad_print.val.copy()\n",
    "        newton_param.update({'abs_tol':100, 'iter':1})            # updating tolerance and iterations\n",
    "        \n",
    "        # Newton loop\n",
    "        while newton_param['abs_tol'] > newton_param['max_tol']   and \\\n",
    "              newton_param['iter']    < newton_param['max_iter']:      \n",
    "              \n",
    "            h_m_print = h_ad_print.val.copy()                                           # current iteration level (m)\n",
    "            eq = h_eq(h_ad_print,h_n_print,h_m_print,time_param['dt_print'])            # calling discrete equation\n",
    "            newton_solver(eq,h_ad_print,h_m_print,newton_param,time_param,print_param)  # calling newton solver\n",
    "        \n",
    "        print_param['is_active'] = False                          # Deactivating printing mode\n",
    "        \n",
    "        # Determining if we reach the end of the simulation or not\n",
    "        if time_param['time_cum'] + time_param['dt_print'] == time_param['sim_time']:\n",
    "            \n",
    "            print('---- End of simulation ----')\n",
    "            break\n",
    "        \n",
    "    # Saving solutions\n",
    "    save_solution(sol,newton_param,time_param,print_param,g,h_ad,h_m,theta,q)    "
   ]
  },
  {
   "cell_type": "markdown",
   "metadata": {},
   "source": [
    "## Plotting solutions"
   ]
  },
  {
   "cell_type": "code",
   "execution_count": 16,
   "metadata": {},
   "outputs": [
    {
     "data": {
      "image/png": "[encoded data removed]",
      "text/plain": [
       "<Figure size 1080x864 with 4 Axes>"
      ]
     },
     "metadata": {},
     "output_type": "display_data"
    }
   ],
   "source": [
    "#%% Plotting results\n",
    "fig = plt.figure(figsize=(15,12))\n",
    "\n",
    "ax1 = plt.subplot(221)\n",
    "ax2 = plt.subplot(222)\n",
    "ax3 = plt.subplot(223)\n",
    "ax4 = plt.subplot(224)\n",
    "\n",
    "for graph in range(len(sol['time'])):\n",
    "    \n",
    "    ax1.plot(sol['pressure_head'][graph],z_cntr,\n",
    "             marker = '*', linewidth = 2,\n",
    "             label=str(sol['time'][graph][0]/3600) + ' [h]')\n",
    "    \n",
    "    ax2.plot(sol['water_content'][graph],z_cntr,\n",
    "             marker = '*', linewidth = 2,\n",
    "             label=str(sol['time'][graph][0]/3600) + ' [h]')\n",
    "    \n",
    "ax3.plot(sol['iterations'],marker='o',linewidth=0.3)    \n",
    "ax4.plot(sol['time_step'],marker='o',linewidth=0.3)\n",
    "\n",
    "# Shrink current axis by 20%\n",
    "box1 = ax1.get_position()\n",
    "box2 = ax2.get_position()\n",
    "box3 = ax3.get_position()\n",
    "box4 = ax4.get_position()\n",
    "ax1.set_position([box1.x0, box1.y0, box1.width * 0.7, box1.height])\n",
    "ax2.set_position([box2.x0, box2.y0, box2.width * 0.7, box2.height])\n",
    "ax3.set_position([box3.x0, box3.y0*0.7, box3.width * 0.7, box3.height])\n",
    "ax4.set_position([box4.x0, box4.y0*0.7, box4.width * 0.7, box4.height])\n",
    "\n",
    "\n",
    "# Put a legend to the right of the current axis\n",
    "ax1.legend(loc='center left', bbox_to_anchor=(1, 0.5))\n",
    "ax2.legend(loc='center left', bbox_to_anchor=(1, 0.5))\n",
    "\n",
    "# Put axis labels\n",
    "ax1.set_xlabel('Pressure Head [cm]')\n",
    "ax1.set_ylabel('Elevation Head [cm]')\n",
    "ax1.grid(True)  \n",
    "\n",
    "ax2.set_xlabel('Hydraulic Head [cm]')\n",
    "ax2.set_ylabel('Elevation Head [cm]')\n",
    "ax2.grid(True)  \n",
    "\n",
    "ax3.set_xlabel('Time Level')\n",
    "ax3.set_ylabel('Number of iterations')\n",
    "ax3.set_yticks([0,1,2,3,4,5,6])\n",
    "ax3.grid(True)  \n",
    "\n",
    "ax4.set_xlabel('Time Level')\n",
    "ax4.set_ylabel('Time Step [s]')\n",
    "ax4.grid(True)  \n",
    "\n",
    "plt.show()"
   ]
  },
  {
   "cell_type": "markdown",
   "metadata": {},
   "source": [
    "## References\n",
    "<a id='ref'></a>"
   ]
  },
  {
   "cell_type": "markdown",
   "metadata": {},
   "source": [
    "[1]: *Pinder, G. F., & Celia, M. A. (2006). Subsurface hydrology. John Wiley & Sons.*\n",
    "\n",
    "[2]: *Aavatsmark, I. (2002). An introduction to multipoint flux approximations for quadrilateral grids. Computational Geosciences, 6(3-4), 405-432.*\n",
    "\n",
    "[3]: *Varela, J. (2018). Implementation of an MPFA/MPSA-FV Solver for the Unsaturated Flow in Deformable Porous Media (Master's thesis, The University of Bergen).*\n",
    "\n",
    "[4]: *Van Genuchten, M.T., 1980. A closed-form equation for predicting the hydraulic conductivity of unsaturated soils 1. Soil science society of America journal, 44(5), pp.892-898.*"
   ]
  }
 ],
 "metadata": {
  "kernelspec": {
   "display_name": "Python 3",
   "language": "python",
   "name": "python3"
  },
  "language_info": {
   "codemirror_mode": {
    "name": "ipython",
    "version": 3
   },
   "file_extension": ".py",
   "mimetype": "text/x-python",
   "name": "python",
   "nbconvert_exporter": "python",
   "pygments_lexer": "ipython3",
   "version": "3.6.8"
  }
 },
 "nbformat": 4,
 "nbformat_minor": 2
}
