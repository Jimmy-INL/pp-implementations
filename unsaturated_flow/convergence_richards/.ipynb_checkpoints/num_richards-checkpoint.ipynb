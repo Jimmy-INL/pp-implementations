{
 "cells": [
  {
   "cell_type": "code",
   "execution_count": 1,
   "metadata": {},
   "outputs": [],
   "source": [
    "import numpy as np\n",
    "import scipy.sparse as sps\n",
    "import porepy as pp\n",
    "import matplotlib.pyplot as plt\n",
    "\n",
    "from porepy.ad.forward_mode import Ad_array\n",
    "from functions_re import arithmetic_mpfa_hyd\n",
    "from functions_re import time_stepping\n",
    "from functions_re import newton_solver\n",
    "from functions_re import save_solution\n",
    "\n",
    "np.set_printoptions(precision=4, suppress = True)"
   ]
  },
  {
   "cell_type": "markdown",
   "metadata": {},
   "source": [
    "## Functions"
   ]
  },
  {
   "cell_type": "code",
   "execution_count": 2,
   "metadata": {},
   "outputs": [],
   "source": [
    "def source_term(g,t):\n",
    "    \n",
    "    x = g.cell_centers[0]\n",
    "    y = g.cell_centers[1]\n",
    "    \n",
    "    f = 2*(t*x*y*(x - 1)*(y - 1) + 1)*(t*x*y*(x - 1) + t*x*(x - 1)*(y - 1))**2 + \\\n",
    "        2*(t*x*y*(x - 1)*(y - 1) + 1)*(t*x*y*(y - 1) + t*y*(x - 1)*(y - 1))**2 + \\\n",
    "        2*t*x*(t*x*y*(x - 1)*(y - 1) + 1)**2*(x - 1) + \\\n",
    "        2*t*y*(t*x*y*(x - 1)*(y - 1) + 1)**2*(y - 1) - \\\n",
    "        (x*y*(x - 1)*(y - 1))/(t*x*y*(x - 1)*(y - 1) + 2)**2\n",
    "    \n",
    "    return f"
   ]
  },
  {
   "cell_type": "markdown",
   "metadata": {},
   "source": [
    "## Setting up the grid"
   ]
  },
  {
   "cell_type": "code",
   "execution_count": 3,
   "metadata": {},
   "outputs": [],
   "source": [
    "Nx = 10;  Ny = 10;\n",
    "Lx = 1; Ly = 1;\n",
    "g = pp.CartGrid([Nx,Ny], [Lx,Ly])\n",
    "g.compute_geometry()\n",
    "V = g.cell_volumes"
   ]
  },
  {
   "cell_type": "markdown",
   "metadata": {},
   "source": [
    "## Creating the permeability second order tensor                       "
   ]
  },
  {
   "cell_type": "code",
   "execution_count": 4,
   "metadata": {},
   "outputs": [],
   "source": [
    "perm = pp.SecondOrderTensor(g.dim, np.ones(g.num_cells))"
   ]
  },
  {
   "cell_type": "markdown",
   "metadata": {},
   "source": [
    "## Boundary and initial conditions"
   ]
  },
  {
   "cell_type": "code",
   "execution_count": 5,
   "metadata": {},
   "outputs": [],
   "source": [
    "b_faces = g.tags['domain_boundary_faces'].nonzero()[0]\n",
    "\n",
    "# Extracting indices of boundary faces w.r.t g\n",
    "x_min = b_faces[g.face_centers[0,b_faces] < 0.0001]\n",
    "x_max = b_faces[g.face_centers[0,b_faces] > 0.9999*Lx]\n",
    "y_min = b_faces[g.face_centers[1,b_faces] < 0.0001]\n",
    "y_max = b_faces[g.face_centers[1,b_faces] > 0.9999*Ly]\n",
    "\n",
    "# Extracting indices of boundary faces w.r.t b_faces\n",
    "west   = np.in1d(b_faces,x_min).nonzero()\n",
    "east   = np.in1d(b_faces,x_max).nonzero()\n",
    "south  = np.in1d(b_faces,y_min).nonzero()\n",
    "north  = np.in1d(b_faces,y_max).nonzero()\n",
    "\n",
    "# Setting the tags at each boundary side\n",
    "labels = np.array([None]*b_faces.size)\n",
    "labels[east]   = 'dir'\n",
    "labels[west]   = 'dir'\n",
    "labels[south]  = 'dir'\n",
    "labels[north]  = 'dir'\n",
    "\n",
    "# Constructing the bc object\n",
    "bc = pp.BoundaryCondition(g, b_faces, labels)\n",
    "\n",
    "# Constructing the boundary values array\n",
    "bc_val = -1 * np.ones(g.num_faces)"
   ]
  },
  {
   "cell_type": "markdown",
   "metadata": {},
   "source": [
    "## Creating the data object"
   ]
  },
  {
   "cell_type": "code",
   "execution_count": 6,
   "metadata": {},
   "outputs": [],
   "source": [
    "specified_parameters = {\"second_order_tensor\": perm, \n",
    "                        \"bc\": bc, \n",
    "                        \"bc_values\": bc_val}\n",
    "\n",
    "data = pp.initialize_default_data(g,{},\"flow\", specified_parameters)"
   ]
  },
  {
   "cell_type": "markdown",
   "metadata": {},
   "source": [
    "## Performing the discretization using MPFA"
   ]
  },
  {
   "cell_type": "code",
   "execution_count": 7,
   "metadata": {},
   "outputs": [],
   "source": [
    "# Instatiating the pp.Mpfa class\n",
    "solver = pp.Mpfa(\"flow\")\n",
    "\n",
    "# MPFA discretization\n",
    "mpfa_F, mpfa_boundF, _, _ = solver.mpfa(g, perm, bc)\n",
    "mpfa_div = pp.fvutils.scalar_divergence(g)"
   ]
  },
  {
   "cell_type": "markdown",
   "metadata": {},
   "source": [
    "## Creating MPFA discrete operators"
   ]
  },
  {
   "cell_type": "code",
   "execution_count": 8,
   "metadata": {},
   "outputs": [],
   "source": [
    "F      = lambda x: mpfa_F * x\n",
    "boundF = lambda x: mpfa_boundF * x\n",
    "div    = lambda x: mpfa_div * x"
   ]
  },
  {
   "cell_type": "markdown",
   "metadata": {},
   "source": [
    "## Water retention curves"
   ]
  },
  {
   "cell_type": "code",
   "execution_count": 9,
   "metadata": {},
   "outputs": [],
   "source": [
    "# Water content\n",
    "theta = lambda psi: 1/(1-psi)\n",
    "\n",
    "# Specific moisture capacity\n",
    "C = lambda psi: 1/((1-psi)**2)\n",
    "\n",
    "# Relative permeability\n",
    "krw = lambda psi: psi**2"
   ]
  },
  {
   "cell_type": "markdown",
   "metadata": {},
   "source": [
    "## Discrete equations"
   ]
  },
  {
   "cell_type": "code",
   "execution_count": 10,
   "metadata": {},
   "outputs": [],
   "source": [
    "# Arithmetic mean of relative permeability\n",
    "krw_ar = lambda psi_m: arithmetic_mpfa_hyd(krw,g,bc,bc_val,psi_m)\n",
    "\n",
    "# Multiphase Darcy Flux\n",
    "q = lambda psi,psi_m: (F(psi) + boundF(bc_val)) * krw_ar(psi_m)\n",
    "\n",
    "# Mass Conservation\n",
    "psi_eq = lambda psi,psi_n,psi_m,dt: div(q(psi,psi_m)) +  ((psi-psi_m)*C(psi_m) + \n",
    "                                                            theta(psi_m) - \n",
    "                                                            theta(psi_n)) * (V/dt) - \\\n",
    "                                                            source_term(g,time_param['time_cum']) * V"
   ]
  },
  {
   "cell_type": "markdown",
   "metadata": {},
   "source": [
    "## Creating AD-object"
   ]
  },
  {
   "cell_type": "code",
   "execution_count": 11,
   "metadata": {},
   "outputs": [],
   "source": [
    "psi_ad = Ad_array(-1*np.ones(g.num_cells), sps.diags(np.ones(g.num_cells)))"
   ]
  },
  {
   "cell_type": "markdown",
   "metadata": {},
   "source": [
    "## Time, solver, printing and solution dictionaries"
   ]
  },
  {
   "cell_type": "code",
   "execution_count": 12,
   "metadata": {},
   "outputs": [],
   "source": [
    "# Time parameters\n",
    "time_param = dict()                       # initializing time parameters dictionary\n",
    "time_param['sim_time'] = 1                # [s] final simulation time\n",
    "time_param['dt_init'] = 0.1               # [s] initial time step\n",
    "time_param['dt_min'] = 0.1                # [s] minimum time step\n",
    "time_param['dt_max'] = 0.1                # [s] maximum time step\n",
    "time_param['lower_opt_iter_range'] = 3    # [iter] lower optimal iteration range\n",
    "time_param['upper_opt_iter_range'] = 7    # [iter] upper optimal iteration range\n",
    "time_param['lower_mult_factor'] = 1.3       # [-] lower multiplication factor\n",
    "time_param['upper_mult_factor'] = 0.7       # [-] upper multiplication factor\n",
    "time_param['dt'] = time_param['dt_init']  # [s] initializing time step\n",
    "time_param['dt_print'] = time_param['dt'] # [s] initializing printing time step\n",
    "time_param['time_cum'] = 0                # [s] cumulative time\n",
    "\n",
    "# Newton parameters\n",
    "newton_param = dict()\n",
    "newton_param['max_tol'] = 1               # [cm] maximum absolute tolerance (pressure head)\n",
    "newton_param['max_iter'] = 10             # [iter] maximum number of iterations\n",
    "newton_param['abs_tol'] = 100             # [cm] absolute tolerance\n",
    "newton_param['iter'] = 1                  # [iter] iteration\n",
    "\n",
    "# Printing parameters\n",
    "print_param = dict()\n",
    "print_param['levels'] = 10                # number of printing levels\n",
    "print_param['times'] = np.linspace(time_param['sim_time']/print_param['levels'], \\\n",
    "                       time_param['sim_time'],print_param['levels'])\n",
    "print_param['counter'] = 0                # initializing printing counter\n",
    "print_param['is_active'] = False          # Printing = True; Not Printing = False\n",
    "\n",
    "# Solution dictionary\n",
    "sol = dict()\n",
    "sol['time'] = np.zeros((print_param['levels']+1,1))\n",
    "sol['pressure_head'] = np.zeros((print_param['levels']+1,g.num_cells))\n",
    "sol['water_content'] = np.zeros((print_param['levels']+1,g.num_cells))\n",
    "sol['darcy_fluxes'] = np.zeros((print_param['levels']+1,g.num_faces))\n",
    "sol['iterations'] = np.array([],dtype=int)\n",
    "sol['time_step'] = np.array([],dtype=float)\n",
    "\n",
    "# Saving inital conditions\n",
    "save_solution(sol,newton_param,time_param,print_param,g,psi_ad,psi_ad.val,theta,q)"
   ]
  },
  {
   "cell_type": "markdown",
   "metadata": {},
   "source": [
    "# The time loop"
   ]
  },
  {
   "cell_type": "code",
   "execution_count": 13,
   "metadata": {},
   "outputs": [
    {
     "ename": "TypeError",
     "evalue": "ufunc 'bitwise_xor' not supported for the input types, and the inputs could not be safely coerced to any supported types according to the casting rule ''safe''",
     "output_type": "error",
     "traceback": [
      "\u001b[0;31m---------------------------------------------------------------------------\u001b[0m",
      "\u001b[0;31mTypeError\u001b[0m                                 Traceback (most recent call last)",
      "\u001b[0;32m<ipython-input-13-3ce1d77dd6d9>\u001b[0m in \u001b[0;36m<module>\u001b[0;34m()\u001b[0m\n\u001b[1;32m     11\u001b[0m \u001b[0;34m\u001b[0m\u001b[0m\n\u001b[1;32m     12\u001b[0m             \u001b[0mpsi_m\u001b[0m \u001b[0;34m=\u001b[0m \u001b[0mpsi_ad\u001b[0m\u001b[0;34m.\u001b[0m\u001b[0mval\u001b[0m\u001b[0;34m.\u001b[0m\u001b[0mcopy\u001b[0m\u001b[0;34m(\u001b[0m\u001b[0;34m)\u001b[0m                               \u001b[0;31m# current iteration level (m)\u001b[0m\u001b[0;34m\u001b[0m\u001b[0;34m\u001b[0m\u001b[0m\n\u001b[0;32m---> 13\u001b[0;31m             \u001b[0meq\u001b[0m \u001b[0;34m=\u001b[0m \u001b[0mpsi_eq\u001b[0m\u001b[0;34m(\u001b[0m\u001b[0mpsi_ad\u001b[0m\u001b[0;34m,\u001b[0m\u001b[0mpsi_n\u001b[0m\u001b[0;34m,\u001b[0m\u001b[0mpsi_m\u001b[0m\u001b[0;34m,\u001b[0m\u001b[0mtime_param\u001b[0m\u001b[0;34m[\u001b[0m\u001b[0;34m'dt'\u001b[0m\u001b[0;34m]\u001b[0m\u001b[0;34m)\u001b[0m \u001b[0;31m# calling discrete equation\u001b[0m\u001b[0;34m\u001b[0m\u001b[0;34m\u001b[0m\u001b[0m\n\u001b[0m\u001b[1;32m     14\u001b[0m             \u001b[0mnewton_solver\u001b[0m\u001b[0;34m(\u001b[0m\u001b[0meq\u001b[0m\u001b[0;34m,\u001b[0m\u001b[0mpsi_ad\u001b[0m\u001b[0;34m,\u001b[0m\u001b[0mpsi_m\u001b[0m\u001b[0;34m,\u001b[0m\u001b[0mnewton_param\u001b[0m\u001b[0;34m,\u001b[0m\u001b[0mtime_param\u001b[0m\u001b[0;34m,\u001b[0m\u001b[0mprint_param\u001b[0m\u001b[0;34m)\u001b[0m  \u001b[0;31m# calling newton solver\u001b[0m\u001b[0;34m\u001b[0m\u001b[0;34m\u001b[0m\u001b[0m\n\u001b[1;32m     15\u001b[0m \u001b[0;34m\u001b[0m\u001b[0m\n",
      "\u001b[0;32m<ipython-input-10-cedf0b022712>\u001b[0m in \u001b[0;36m<lambda>\u001b[0;34m(psi, psi_n, psi_m, dt)\u001b[0m\n\u001b[1;32m      9\u001b[0m                                                             \u001b[0mtheta\u001b[0m\u001b[0;34m(\u001b[0m\u001b[0mpsi_m\u001b[0m\u001b[0;34m)\u001b[0m \u001b[0;34m-\u001b[0m\u001b[0;34m\u001b[0m\u001b[0;34m\u001b[0m\u001b[0m\n\u001b[1;32m     10\u001b[0m                                                             theta(psi_n)) * (V/dt) - \\\n\u001b[0;32m---> 11\u001b[0;31m                                                             \u001b[0msource_term\u001b[0m\u001b[0;34m(\u001b[0m\u001b[0mg\u001b[0m\u001b[0;34m,\u001b[0m\u001b[0mtime_param\u001b[0m\u001b[0;34m[\u001b[0m\u001b[0;34m'time_cum'\u001b[0m\u001b[0;34m]\u001b[0m\u001b[0;34m)\u001b[0m \u001b[0;34m*\u001b[0m \u001b[0mV\u001b[0m\u001b[0;34m\u001b[0m\u001b[0;34m\u001b[0m\u001b[0m\n\u001b[0m",
      "\u001b[0;32m<ipython-input-2-7b51a475af92>\u001b[0m in \u001b[0;36msource_term\u001b[0;34m(g, t)\u001b[0m\n\u001b[1;32m      4\u001b[0m     \u001b[0my\u001b[0m \u001b[0;34m=\u001b[0m \u001b[0mg\u001b[0m\u001b[0;34m.\u001b[0m\u001b[0mcell_centers\u001b[0m\u001b[0;34m[\u001b[0m\u001b[0;36m1\u001b[0m\u001b[0;34m]\u001b[0m\u001b[0;34m\u001b[0m\u001b[0;34m\u001b[0m\u001b[0m\n\u001b[1;32m      5\u001b[0m \u001b[0;34m\u001b[0m\u001b[0m\n\u001b[0;32m----> 6\u001b[0;31m     \u001b[0mf\u001b[0m \u001b[0;34m=\u001b[0m \u001b[0;36m2\u001b[0m\u001b[0;34m*\u001b[0m\u001b[0;34m(\u001b[0m\u001b[0mt\u001b[0m\u001b[0;34m*\u001b[0m\u001b[0mx\u001b[0m\u001b[0;34m*\u001b[0m\u001b[0my\u001b[0m\u001b[0;34m*\u001b[0m\u001b[0;34m(\u001b[0m\u001b[0mx\u001b[0m \u001b[0;34m-\u001b[0m \u001b[0;36m1\u001b[0m\u001b[0;34m)\u001b[0m\u001b[0;34m*\u001b[0m\u001b[0;34m(\u001b[0m\u001b[0my\u001b[0m \u001b[0;34m-\u001b[0m \u001b[0;36m1\u001b[0m\u001b[0;34m)\u001b[0m \u001b[0;34m+\u001b[0m \u001b[0;36m1\u001b[0m\u001b[0;34m)\u001b[0m\u001b[0;34m*\u001b[0m\u001b[0;34m(\u001b[0m\u001b[0mt\u001b[0m\u001b[0;34m*\u001b[0m\u001b[0mx\u001b[0m\u001b[0;34m*\u001b[0m\u001b[0my\u001b[0m\u001b[0;34m*\u001b[0m\u001b[0;34m(\u001b[0m\u001b[0mx\u001b[0m \u001b[0;34m-\u001b[0m \u001b[0;36m1\u001b[0m\u001b[0;34m)\u001b[0m \u001b[0;34m+\u001b[0m \u001b[0mt\u001b[0m\u001b[0;34m*\u001b[0m\u001b[0mx\u001b[0m\u001b[0;34m*\u001b[0m\u001b[0;34m(\u001b[0m\u001b[0mx\u001b[0m \u001b[0;34m-\u001b[0m \u001b[0;36m1\u001b[0m\u001b[0;34m)\u001b[0m\u001b[0;34m*\u001b[0m\u001b[0;34m(\u001b[0m\u001b[0my\u001b[0m \u001b[0;34m-\u001b[0m \u001b[0;36m1\u001b[0m\u001b[0;34m)\u001b[0m\u001b[0;34m)\u001b[0m\u001b[0;34m^\u001b[0m\u001b[0;36m2\u001b[0m \u001b[0;34m+\u001b[0m         \u001b[0;36m2\u001b[0m\u001b[0;34m*\u001b[0m\u001b[0;34m(\u001b[0m\u001b[0mt\u001b[0m\u001b[0;34m*\u001b[0m\u001b[0mx\u001b[0m\u001b[0;34m*\u001b[0m\u001b[0my\u001b[0m\u001b[0;34m*\u001b[0m\u001b[0;34m(\u001b[0m\u001b[0mx\u001b[0m \u001b[0;34m-\u001b[0m \u001b[0;36m1\u001b[0m\u001b[0;34m)\u001b[0m\u001b[0;34m*\u001b[0m\u001b[0;34m(\u001b[0m\u001b[0my\u001b[0m \u001b[0;34m-\u001b[0m \u001b[0;36m1\u001b[0m\u001b[0;34m)\u001b[0m \u001b[0;34m+\u001b[0m \u001b[0;36m1\u001b[0m\u001b[0;34m)\u001b[0m\u001b[0;34m*\u001b[0m\u001b[0;34m(\u001b[0m\u001b[0mt\u001b[0m\u001b[0;34m*\u001b[0m\u001b[0mx\u001b[0m\u001b[0;34m*\u001b[0m\u001b[0my\u001b[0m\u001b[0;34m*\u001b[0m\u001b[0;34m(\u001b[0m\u001b[0my\u001b[0m \u001b[0;34m-\u001b[0m \u001b[0;36m1\u001b[0m\u001b[0;34m)\u001b[0m \u001b[0;34m+\u001b[0m \u001b[0mt\u001b[0m\u001b[0;34m*\u001b[0m\u001b[0my\u001b[0m\u001b[0;34m*\u001b[0m\u001b[0;34m(\u001b[0m\u001b[0mx\u001b[0m \u001b[0;34m-\u001b[0m \u001b[0;36m1\u001b[0m\u001b[0;34m)\u001b[0m\u001b[0;34m*\u001b[0m\u001b[0;34m(\u001b[0m\u001b[0my\u001b[0m \u001b[0;34m-\u001b[0m \u001b[0;36m1\u001b[0m\u001b[0;34m)\u001b[0m\u001b[0;34m)\u001b[0m\u001b[0;34m^\u001b[0m\u001b[0;36m2\u001b[0m \u001b[0;34m+\u001b[0m         \u001b[0;36m2\u001b[0m\u001b[0;34m*\u001b[0m\u001b[0mt\u001b[0m\u001b[0;34m*\u001b[0m\u001b[0mx\u001b[0m\u001b[0;34m*\u001b[0m\u001b[0;34m(\u001b[0m\u001b[0mt\u001b[0m\u001b[0;34m*\u001b[0m\u001b[0mx\u001b[0m\u001b[0;34m*\u001b[0m\u001b[0my\u001b[0m\u001b[0;34m*\u001b[0m\u001b[0;34m(\u001b[0m\u001b[0mx\u001b[0m \u001b[0;34m-\u001b[0m \u001b[0;36m1\u001b[0m\u001b[0;34m)\u001b[0m\u001b[0;34m*\u001b[0m\u001b[0;34m(\u001b[0m\u001b[0my\u001b[0m \u001b[0;34m-\u001b[0m \u001b[0;36m1\u001b[0m\u001b[0;34m)\u001b[0m \u001b[0;34m+\u001b[0m \u001b[0;36m1\u001b[0m\u001b[0;34m)\u001b[0m\u001b[0;34m^\u001b[0m\u001b[0;36m2\u001b[0m\u001b[0;34m*\u001b[0m\u001b[0;34m(\u001b[0m\u001b[0mx\u001b[0m \u001b[0;34m-\u001b[0m \u001b[0;36m1\u001b[0m\u001b[0;34m)\u001b[0m \u001b[0;34m+\u001b[0m         \u001b[0;36m2\u001b[0m\u001b[0;34m*\u001b[0m\u001b[0mt\u001b[0m\u001b[0;34m*\u001b[0m\u001b[0my\u001b[0m\u001b[0;34m*\u001b[0m\u001b[0;34m(\u001b[0m\u001b[0mt\u001b[0m\u001b[0;34m*\u001b[0m\u001b[0mx\u001b[0m\u001b[0;34m*\u001b[0m\u001b[0my\u001b[0m\u001b[0;34m*\u001b[0m\u001b[0;34m(\u001b[0m\u001b[0mx\u001b[0m \u001b[0;34m-\u001b[0m \u001b[0;36m1\u001b[0m\u001b[0;34m)\u001b[0m\u001b[0;34m*\u001b[0m\u001b[0;34m(\u001b[0m\u001b[0my\u001b[0m \u001b[0;34m-\u001b[0m \u001b[0;36m1\u001b[0m\u001b[0;34m)\u001b[0m \u001b[0;34m+\u001b[0m \u001b[0;36m1\u001b[0m\u001b[0;34m)\u001b[0m\u001b[0;34m^\u001b[0m\u001b[0;36m2\u001b[0m\u001b[0;34m*\u001b[0m\u001b[0;34m(\u001b[0m\u001b[0my\u001b[0m \u001b[0;34m-\u001b[0m \u001b[0;36m1\u001b[0m\u001b[0;34m)\u001b[0m \u001b[0;34m-\u001b[0m         \u001b[0;34m(\u001b[0m\u001b[0mx\u001b[0m\u001b[0;34m*\u001b[0m\u001b[0my\u001b[0m\u001b[0;34m*\u001b[0m\u001b[0;34m(\u001b[0m\u001b[0mx\u001b[0m \u001b[0;34m-\u001b[0m \u001b[0;36m1\u001b[0m\u001b[0;34m)\u001b[0m\u001b[0;34m*\u001b[0m\u001b[0;34m(\u001b[0m\u001b[0my\u001b[0m \u001b[0;34m-\u001b[0m \u001b[0;36m1\u001b[0m\u001b[0;34m)\u001b[0m\u001b[0;34m)\u001b[0m\u001b[0;34m/\u001b[0m\u001b[0;34m(\u001b[0m\u001b[0mt\u001b[0m\u001b[0;34m*\u001b[0m\u001b[0mx\u001b[0m\u001b[0;34m*\u001b[0m\u001b[0my\u001b[0m\u001b[0;34m*\u001b[0m\u001b[0;34m(\u001b[0m\u001b[0mx\u001b[0m \u001b[0;34m-\u001b[0m \u001b[0;36m1\u001b[0m\u001b[0;34m)\u001b[0m\u001b[0;34m*\u001b[0m\u001b[0;34m(\u001b[0m\u001b[0my\u001b[0m \u001b[0;34m-\u001b[0m \u001b[0;36m1\u001b[0m\u001b[0;34m)\u001b[0m \u001b[0;34m+\u001b[0m \u001b[0;36m2\u001b[0m\u001b[0;34m)\u001b[0m\u001b[0;34m^\u001b[0m\u001b[0;36m2\u001b[0m\u001b[0;34m\u001b[0m\u001b[0;34m\u001b[0m\u001b[0m\n\u001b[0m\u001b[1;32m      7\u001b[0m \u001b[0;34m\u001b[0m\u001b[0m\n\u001b[1;32m      8\u001b[0m     \u001b[0;32mreturn\u001b[0m \u001b[0mf\u001b[0m\u001b[0;34m\u001b[0m\u001b[0;34m\u001b[0m\u001b[0m\n",
      "\u001b[0;31mTypeError\u001b[0m: ufunc 'bitwise_xor' not supported for the input types, and the inputs could not be safely coerced to any supported types according to the casting rule ''safe''"
     ]
    }
   ],
   "source": [
    "while time_param['time_cum'] < time_param['sim_time']:\n",
    "        \n",
    "    if print_param['is_active'] == False:\n",
    "        \n",
    "        psi_n = psi_ad.val.copy()                                     # current time level (n)\n",
    "        time_param['time_cum'] += time_param['dt'] \n",
    "        newton_param.update({'abs_tol':100, 'iter':1})            # updating tolerance and iterations\n",
    "        \n",
    "        # Newton loop\n",
    "        while newton_param['abs_tol'] > newton_param['max_tol']   and \\\n",
    "              newton_param['iter']    < newton_param['max_iter']:      \n",
    "              \n",
    "            psi_m = psi_ad.val.copy()                               # current iteration level (m)\n",
    "            eq = psi_eq(psi_ad,psi_n,psi_m,time_param['dt']) # calling discrete equation\n",
    "            newton_solver(eq,psi_ad,psi_m,newton_param,time_param,print_param)  # calling newton solver\n",
    "        \n",
    "        # Calling time stepping routine\n",
    "        time_stepping(time_param,newton_param,print_param)\n",
    "        \n",
    "        # Determining if next step we should print or not\n",
    "        if time_param['dt'] + time_param['time_cum'] >= print_param['times'][print_param['counter']]:\n",
    "            \n",
    "            time_param['dt_print'] = print_param['times'][print_param['counter']] - time_param['time_cum']\n",
    "            print_param['is_active'] = True\n",
    "        \n",
    "    elif print_param['is_active'] == True:\n",
    "        \n",
    "        psi_ad_print = Ad_array(psi_ad.val.copy(), sps.diags(np.ones(g.num_cells)))\n",
    "        psi_n_print = psi_ad_print.val.copy()\n",
    "        newton_param.update({'abs_tol':100, 'iter':1})            # updating tolerance and iterations\n",
    "        \n",
    "        # Newton loop\n",
    "        while newton_param['abs_tol'] > newton_param['max_tol']   and \\\n",
    "              newton_param['iter']    < newton_param['max_iter']:      \n",
    "              \n",
    "            psi_m_print = psi_ad_print.val.copy()                                           # current iteration level (m)\n",
    "            eq = psi_eq(psi_ad_print,psi_n_print,psi_m_print,time_param['dt_print'])            # calling discrete equation\n",
    "            newton_solver(eq,psi_ad_print,psi_m_print,newton_param,time_param,print_param)  # calling newton solver\n",
    "        \n",
    "        print_param['is_active'] = False                          # Deactivating printing mode\n",
    "        \n",
    "        # Determining if we reach the end of the simulation or not\n",
    "        if time_param['time_cum'] + time_param['dt_print'] == time_param['sim_time']:\n",
    "            \n",
    "            print('---- End of simulation ----')\n",
    "            break\n",
    "        \n",
    "    # Saving solutions\n",
    "    save_solution(sol,newton_param,time_param,print_param,g,psi_ad,psi_m,theta,q)    "
   ]
  },
  {
   "cell_type": "code",
   "execution_count": null,
   "metadata": {},
   "outputs": [],
   "source": [
    "time_param['time_cum']"
   ]
  },
  {
   "cell_type": "code",
   "execution_count": null,
   "metadata": {},
   "outputs": [],
   "source": [
    "time_param"
   ]
  },
  {
   "cell_type": "code",
   "execution_count": null,
   "metadata": {},
   "outputs": [],
   "source": []
  }
 ],
 "metadata": {
  "kernelspec": {
   "display_name": "Python 3",
   "language": "python",
   "name": "python3"
  },
  "language_info": {
   "codemirror_mode": {
    "name": "ipython",
    "version": 3
   },
   "file_extension": ".py",
   "mimetype": "text/x-python",
   "name": "python",
   "nbconvert_exporter": "python",
   "pygments_lexer": "ipython3",
   "version": "3.6.8"
  }
 },
 "nbformat": 4,
 "nbformat_minor": 2
}
